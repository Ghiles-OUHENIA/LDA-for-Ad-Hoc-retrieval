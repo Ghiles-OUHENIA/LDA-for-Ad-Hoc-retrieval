{
 "cells": [
  {
   "cell_type": "code",
   "execution_count": 1,
   "metadata": {},
   "outputs": [],
   "source": [
    "import sys\n",
    "sys.path.append('./src')"
   ]
  },
  {
   "cell_type": "code",
   "execution_count": 2,
   "metadata": {},
   "outputs": [],
   "source": [
    "from retrieval_system.likelihood import LikelihoodRetrieval\n",
    "from retrieval_system.clustering import ClusterBasedRetrieval\n",
    "from retrieval_system.lda import LdaRetrieval\n",
    "\n",
    "from evaluation.metrics import calculate_average_precision"
   ]
  },
  {
   "cell_type": "code",
   "execution_count": 3,
   "metadata": {},
   "outputs": [],
   "source": [
    "import re\n",
    "import string\n",
    "import gc\n",
    "from tqdm import tqdm\n",
    "\n",
    "import pandas as pd\n",
    "import numpy as np\n",
    "import matplotlib.pyplot as plt\n",
    "\n",
    "from sklearn.feature_extraction.text import CountVectorizer\n",
    "from sklearn.preprocessing import LabelEncoder\n",
    "from nltk.corpus import stopwords\n",
    "\n",
    "import warnings\n",
    "warnings.filterwarnings('ignore')\n",
    "\n",
    "gc.enable()"
   ]
  },
  {
   "cell_type": "code",
   "execution_count": 4,
   "metadata": {},
   "outputs": [],
   "source": [
    "import ir_datasets\n",
    "dataset = ir_datasets.load(\"beir/scidocs\")"
   ]
  },
  {
   "cell_type": "code",
   "execution_count": 5,
   "metadata": {},
   "outputs": [],
   "source": [
    "docs_df = pd.DataFrame(columns=['text', 'docno'])\n",
    "docs_data = []\n",
    "\n",
    "for doc in dataset.docs_iter():\n",
    "    docs_data.append({'text': doc.text, 'docno': doc.doc_id})\n",
    "\n",
    "docs_df = pd.concat([docs_df, pd.DataFrame(docs_data)], ignore_index=True)"
   ]
  },
  {
   "cell_type": "code",
   "execution_count": 6,
   "metadata": {},
   "outputs": [],
   "source": [
    "queries_df = pd.DataFrame(columns=['query', 'qid'])\n",
    "queries_data = []\n",
    "\n",
    "for query in dataset.queries_iter():\n",
    "    queries_data.append({'query': query.text, 'qid': query.query_id})\n",
    "\n",
    "queries_df = pd.concat([queries_df, pd.DataFrame(queries_data)], ignore_index=True)"
   ]
  },
  {
   "cell_type": "code",
   "execution_count": 7,
   "metadata": {},
   "outputs": [],
   "source": [
    "qrels_df = pd.DataFrame(columns=['docno', 'qid', 'label'])\n",
    "qrels_data = []\n",
    "\n",
    "for qrel in dataset.qrels_iter():\n",
    "    qrels_data.append({'docno': qrel.doc_id, 'qid': qrel.query_id, 'label': qrel.relevance})\n",
    "\n",
    "qrels_df = pd.concat([qrels_df, pd.DataFrame(qrels_data)], ignore_index=True)\n",
    "qrels_df = qrels_df[qrels_df[\"label\"] != 0]"
   ]
  },
  {
   "cell_type": "code",
   "execution_count": 8,
   "metadata": {},
   "outputs": [],
   "source": [
    "doc_ids = np.unique(docs_df[\"docno\"])\n",
    "querie_ids = np.unique(queries_df[\"qid\"])\n",
    "\n",
    "encoder = LabelEncoder()\n",
    "encoder.fit(doc_ids)\n",
    "\n",
    "docs_df[\"docno\"] = encoder.transform(docs_df[\"docno\"])\n",
    "qrels_df[\"docno\"] =  encoder.transform(qrels_df[\"docno\"])\n",
    "\n",
    "encoder = LabelEncoder()\n",
    "encoder.fit(querie_ids)\n",
    "\n",
    "queries_df[\"qid\"] = encoder.transform(queries_df[\"qid\"])\n",
    "qrels_df[\"qid\"] =  encoder.transform(qrels_df[\"qid\"])"
   ]
  },
  {
   "cell_type": "code",
   "execution_count": 9,
   "metadata": {},
   "outputs": [
    {
     "data": {
      "text/plain": [
       "0        11706\n",
       "1        15445\n",
       "2         5010\n",
       "3         9626\n",
       "4         9725\n",
       "         ...  \n",
       "25652    16845\n",
       "25653    10603\n",
       "25654    15466\n",
       "25655     5027\n",
       "25656    23073\n",
       "Name: docno, Length: 25657, dtype: int64"
      ]
     },
     "execution_count": 9,
     "metadata": {},
     "output_type": "execute_result"
    }
   ],
   "source": [
    "docs_df[\"docno\"]"
   ]
  },
  {
   "cell_type": "code",
   "execution_count": 10,
   "metadata": {},
   "outputs": [
    {
     "data": {
      "text/html": [
       "<div>\n",
       "<style scoped>\n",
       "    .dataframe tbody tr th:only-of-type {\n",
       "        vertical-align: middle;\n",
       "    }\n",
       "\n",
       "    .dataframe tbody tr th {\n",
       "        vertical-align: top;\n",
       "    }\n",
       "\n",
       "    .dataframe thead th {\n",
       "        text-align: right;\n",
       "    }\n",
       "</style>\n",
       "<table border=\"1\" class=\"dataframe\">\n",
       "  <thead>\n",
       "    <tr style=\"text-align: right;\">\n",
       "      <th></th>\n",
       "      <th>text</th>\n",
       "      <th>docno</th>\n",
       "    </tr>\n",
       "  </thead>\n",
       "  <tbody>\n",
       "    <tr>\n",
       "      <th>0</th>\n",
       "      <td>An evolutionary recurrent network which automa...</td>\n",
       "      <td>11706</td>\n",
       "    </tr>\n",
       "    <tr>\n",
       "      <th>1</th>\n",
       "      <td>Dynamic economic dispatch (DED) is one of the ...</td>\n",
       "      <td>15445</td>\n",
       "    </tr>\n",
       "    <tr>\n",
       "      <th>2</th>\n",
       "      <td>It's not surprisingly when entering this site ...</td>\n",
       "      <td>5010</td>\n",
       "    </tr>\n",
       "    <tr>\n",
       "      <th>3</th>\n",
       "      <td>In this paper, we introduce a new parameter, c...</td>\n",
       "      <td>9626</td>\n",
       "    </tr>\n",
       "    <tr>\n",
       "      <th>4</th>\n",
       "      <td>This paper proposes a recurrent fuzzy neural n...</td>\n",
       "      <td>9725</td>\n",
       "    </tr>\n",
       "  </tbody>\n",
       "</table>\n",
       "</div>"
      ],
      "text/plain": [
       "                                                text  docno\n",
       "0  An evolutionary recurrent network which automa...  11706\n",
       "1  Dynamic economic dispatch (DED) is one of the ...  15445\n",
       "2  It's not surprisingly when entering this site ...   5010\n",
       "3  In this paper, we introduce a new parameter, c...   9626\n",
       "4  This paper proposes a recurrent fuzzy neural n...   9725"
      ]
     },
     "execution_count": 10,
     "metadata": {},
     "output_type": "execute_result"
    }
   ],
   "source": [
    "docs_df.head()"
   ]
  },
  {
   "cell_type": "code",
   "execution_count": 11,
   "metadata": {},
   "outputs": [
    {
     "data": {
      "text/html": [
       "<div>\n",
       "<style scoped>\n",
       "    .dataframe tbody tr th:only-of-type {\n",
       "        vertical-align: middle;\n",
       "    }\n",
       "\n",
       "    .dataframe tbody tr th {\n",
       "        vertical-align: top;\n",
       "    }\n",
       "\n",
       "    .dataframe thead th {\n",
       "        text-align: right;\n",
       "    }\n",
       "</style>\n",
       "<table border=\"1\" class=\"dataframe\">\n",
       "  <thead>\n",
       "    <tr style=\"text-align: right;\">\n",
       "      <th></th>\n",
       "      <th>query</th>\n",
       "      <th>qid</th>\n",
       "    </tr>\n",
       "  </thead>\n",
       "  <tbody>\n",
       "    <tr>\n",
       "      <th>0</th>\n",
       "      <td>A Direct Search Method to solve Economic Dispa...</td>\n",
       "      <td>523</td>\n",
       "    </tr>\n",
       "    <tr>\n",
       "      <th>1</th>\n",
       "      <td>Bearish-Bullish Sentiment Analysis on Financia...</td>\n",
       "      <td>554</td>\n",
       "    </tr>\n",
       "    <tr>\n",
       "      <th>2</th>\n",
       "      <td>Predicting defects in SAP Java code: An experi...</td>\n",
       "      <td>617</td>\n",
       "    </tr>\n",
       "    <tr>\n",
       "      <th>3</th>\n",
       "      <td>Active-Metric Learning for Classification of R...</td>\n",
       "      <td>262</td>\n",
       "    </tr>\n",
       "    <tr>\n",
       "      <th>4</th>\n",
       "      <td>Ad Hoc Retrieval Experiments Using WordNet and...</td>\n",
       "      <td>29</td>\n",
       "    </tr>\n",
       "  </tbody>\n",
       "</table>\n",
       "</div>"
      ],
      "text/plain": [
       "                                               query  qid\n",
       "0  A Direct Search Method to solve Economic Dispa...  523\n",
       "1  Bearish-Bullish Sentiment Analysis on Financia...  554\n",
       "2  Predicting defects in SAP Java code: An experi...  617\n",
       "3  Active-Metric Learning for Classification of R...  262\n",
       "4  Ad Hoc Retrieval Experiments Using WordNet and...   29"
      ]
     },
     "execution_count": 11,
     "metadata": {},
     "output_type": "execute_result"
    }
   ],
   "source": [
    "queries_df.head()"
   ]
  },
  {
   "cell_type": "code",
   "execution_count": 12,
   "metadata": {},
   "outputs": [
    {
     "data": {
      "text/html": [
       "<div>\n",
       "<style scoped>\n",
       "    .dataframe tbody tr th:only-of-type {\n",
       "        vertical-align: middle;\n",
       "    }\n",
       "\n",
       "    .dataframe tbody tr th {\n",
       "        vertical-align: top;\n",
       "    }\n",
       "\n",
       "    .dataframe thead th {\n",
       "        text-align: right;\n",
       "    }\n",
       "</style>\n",
       "<table border=\"1\" class=\"dataframe\">\n",
       "  <thead>\n",
       "    <tr style=\"text-align: right;\">\n",
       "      <th></th>\n",
       "      <th>docno</th>\n",
       "      <th>qid</th>\n",
       "      <th>label</th>\n",
       "    </tr>\n",
       "  </thead>\n",
       "  <tbody>\n",
       "    <tr>\n",
       "      <th>0</th>\n",
       "      <td>11706</td>\n",
       "      <td>523</td>\n",
       "      <td>1</td>\n",
       "    </tr>\n",
       "    <tr>\n",
       "      <th>1</th>\n",
       "      <td>15445</td>\n",
       "      <td>523</td>\n",
       "      <td>1</td>\n",
       "    </tr>\n",
       "    <tr>\n",
       "      <th>2</th>\n",
       "      <td>5010</td>\n",
       "      <td>523</td>\n",
       "      <td>1</td>\n",
       "    </tr>\n",
       "    <tr>\n",
       "      <th>3</th>\n",
       "      <td>9626</td>\n",
       "      <td>523</td>\n",
       "      <td>1</td>\n",
       "    </tr>\n",
       "    <tr>\n",
       "      <th>4</th>\n",
       "      <td>9725</td>\n",
       "      <td>523</td>\n",
       "      <td>1</td>\n",
       "    </tr>\n",
       "  </tbody>\n",
       "</table>\n",
       "</div>"
      ],
      "text/plain": [
       "   docno  qid label\n",
       "0  11706  523     1\n",
       "1  15445  523     1\n",
       "2   5010  523     1\n",
       "3   9626  523     1\n",
       "4   9725  523     1"
      ]
     },
     "execution_count": 12,
     "metadata": {},
     "output_type": "execute_result"
    }
   ],
   "source": [
    "qrels_df.head()"
   ]
  },
  {
   "attachments": {},
   "cell_type": "markdown",
   "metadata": {},
   "source": [
    "## Réduire la taille des données : "
   ]
  },
  {
   "attachments": {},
   "cell_type": "markdown",
   "metadata": {},
   "source": [
    "### 1. Sample N docs : "
   ]
  },
  {
   "cell_type": "code",
   "execution_count": 13,
   "metadata": {},
   "outputs": [
    {
     "data": {
      "text/plain": [
       "(1000,)"
      ]
     },
     "execution_count": 13,
     "metadata": {},
     "output_type": "execute_result"
    }
   ],
   "source": [
    "N_docs = 1000\n",
    "indices = np.arange(len(docs_df))\n",
    "np.random.shuffle(indices)\n",
    "\n",
    "docs_df_reduce = docs_df.iloc[indices[0:N_docs]].reset_index(drop=True)\n",
    "doc_ids = np.unique(docs_df_reduce[\"docno\"])\n",
    "doc_ids.shape"
   ]
  },
  {
   "attachments": {},
   "cell_type": "markdown",
   "metadata": {},
   "source": [
    "Mettre à jour le qrel avec les nouveaux doc retenus : "
   ]
  },
  {
   "cell_type": "code",
   "execution_count": 14,
   "metadata": {},
   "outputs": [
    {
     "data": {
      "text/plain": [
       "(168,)"
      ]
     },
     "execution_count": 14,
     "metadata": {},
     "output_type": "execute_result"
    }
   ],
   "source": [
    "qrels_df_1 = qrels_df[qrels_df[\"docno\"].isin(doc_ids)]\n",
    "query_ids = np.unique(qrels_df_1[\"qid\"])\n",
    "query_ids.shape"
   ]
  },
  {
   "attachments": {},
   "cell_type": "markdown",
   "metadata": {},
   "source": [
    "Mettre à jour les queries avec celles qui existent dans qrels : "
   ]
  },
  {
   "cell_type": "code",
   "execution_count": 15,
   "metadata": {},
   "outputs": [
    {
     "data": {
      "text/plain": [
       "(168, 2)"
      ]
     },
     "execution_count": 15,
     "metadata": {},
     "output_type": "execute_result"
    }
   ],
   "source": [
    "queries_df_1 = queries_df[queries_df[\"qid\"].isin(query_ids)]\n",
    "queries_df_1.shape"
   ]
  },
  {
   "attachments": {},
   "cell_type": "markdown",
   "metadata": {},
   "source": [
    "### 2. Sample N queries : "
   ]
  },
  {
   "cell_type": "code",
   "execution_count": 16,
   "metadata": {},
   "outputs": [
    {
     "data": {
      "text/plain": [
       "(50,)"
      ]
     },
     "execution_count": 16,
     "metadata": {},
     "output_type": "execute_result"
    }
   ],
   "source": [
    "N_queries = 50\n",
    "indices = np.arange(len(queries_df_1))\n",
    "queries_df_reduce = queries_df_1.iloc[indices[0:N_queries]].reset_index(drop=True)\n",
    "query_ids = np.unique(queries_df_reduce[\"qid\"])\n",
    "query_ids.shape"
   ]
  },
  {
   "attachments": {},
   "cell_type": "markdown",
   "metadata": {},
   "source": [
    "Mettre à jour le qrel avec les nouvelles query retenues : "
   ]
  },
  {
   "cell_type": "code",
   "execution_count": 17,
   "metadata": {},
   "outputs": [
    {
     "data": {
      "text/plain": [
       "(56, 3)"
      ]
     },
     "execution_count": 17,
     "metadata": {},
     "output_type": "execute_result"
    }
   ],
   "source": [
    "qrels_df_2 = qrels_df_1[qrels_df_1[\"qid\"].isin(query_ids)]\n",
    "qrels_df_2.shape"
   ]
  },
  {
   "attachments": {},
   "cell_type": "markdown",
   "metadata": {},
   "source": [
    "### 3. Mettre à jour les df :"
   ]
  },
  {
   "cell_type": "code",
   "execution_count": 18,
   "metadata": {},
   "outputs": [],
   "source": [
    "docs_df_new = docs_df_reduce\n",
    "queries_df_new = queries_df_reduce\n",
    "qrels_df_new = qrels_df_2"
   ]
  },
  {
   "cell_type": "code",
   "execution_count": 19,
   "metadata": {},
   "outputs": [
    {
     "data": {
      "text/plain": [
       "((1000, 2), (50, 2), (56, 3))"
      ]
     },
     "execution_count": 19,
     "metadata": {},
     "output_type": "execute_result"
    }
   ],
   "source": [
    "docs_df_new.shape, queries_df_new.shape, qrels_df_new.shape"
   ]
  },
  {
   "attachments": {},
   "cell_type": "markdown",
   "metadata": {},
   "source": [
    "### 4. Re-coder les id :"
   ]
  },
  {
   "cell_type": "code",
   "execution_count": 20,
   "metadata": {},
   "outputs": [],
   "source": [
    "doc_ids = np.unique(docs_df_new[\"docno\"])\n",
    "querie_ids = np.unique(queries_df_new[\"qid\"])\n",
    "\n",
    "encoder = LabelEncoder()\n",
    "encoder.fit(doc_ids)\n",
    "\n",
    "docs_df_new[\"docno\"] = encoder.transform(docs_df_new[\"docno\"])\n",
    "qrels_df_new[\"docno\"] =  encoder.transform(qrels_df_new[\"docno\"])\n",
    "\n",
    "encoder = LabelEncoder()\n",
    "encoder.fit(querie_ids)\n",
    "\n",
    "queries_df_new[\"qid\"] = encoder.transform(queries_df_new[\"qid\"])\n",
    "qrels_df_new[\"qid\"] =  encoder.transform(qrels_df_new[\"qid\"])"
   ]
  },
  {
   "cell_type": "code",
   "execution_count": 21,
   "metadata": {},
   "outputs": [
    {
     "data": {
      "text/plain": [
       "0      221\n",
       "1      169\n",
       "2       12\n",
       "3      116\n",
       "4      185\n",
       "      ... \n",
       "995    121\n",
       "996    191\n",
       "997     76\n",
       "998     78\n",
       "999    198\n",
       "Name: text, Length: 1000, dtype: int64"
      ]
     },
     "execution_count": 21,
     "metadata": {},
     "output_type": "execute_result"
    }
   ],
   "source": [
    "Nds = docs_df_new[\"text\"].map(lambda t: re.sub('[' + re.escape(string.punctuation) + ']', ' ', t).split(\" \")).map(lambda l : list(filter((\"\").__ne__, l))).map(len)\n",
    "Nds"
   ]
  },
  {
   "cell_type": "code",
   "execution_count": 22,
   "metadata": {},
   "outputs": [],
   "source": [
    "true_relevance = np.zeros((len(queries_df_new), len(docs_df_new)))\n",
    "\n",
    "for _, row in qrels_df_new.iterrows():\n",
    "    qid = row['qid']\n",
    "    docno = row['docno']\n",
    "    \n",
    "    if row[\"label\"] != 0:\n",
    "        true_relevance[int(qid), int(docno)] = 1"
   ]
  },
  {
   "cell_type": "code",
   "execution_count": 23,
   "metadata": {},
   "outputs": [],
   "source": [
    "for i in range(len(queries_df_new)):\n",
    "    a = np.random.rand() / 2\n",
    "    indices = np.random.choice(len(docs_df_new), int(len(docs_df_new) * a), replace=False)\n",
    "    true_relevance[i, indices] = 1"
   ]
  },
  {
   "cell_type": "code",
   "execution_count": 24,
   "metadata": {},
   "outputs": [
    {
     "data": {
      "text/plain": [
       "(50, 1000)"
      ]
     },
     "execution_count": 24,
     "metadata": {},
     "output_type": "execute_result"
    }
   ],
   "source": [
    "true_relevance.shape"
   ]
  },
  {
   "cell_type": "code",
   "execution_count": 25,
   "metadata": {},
   "outputs": [
    {
     "data": {
      "text/plain": [
       "1.0"
      ]
     },
     "execution_count": 25,
     "metadata": {},
     "output_type": "execute_result"
    }
   ],
   "source": [
    "true_relevance[qrels_df_new[\"qid\"].iloc[0], qrels_df_new[\"docno\"].iloc[0]]"
   ]
  },
  {
   "cell_type": "code",
   "execution_count": 26,
   "metadata": {},
   "outputs": [
    {
     "data": {
      "text/html": [
       "<div>\n",
       "<style scoped>\n",
       "    .dataframe tbody tr th:only-of-type {\n",
       "        vertical-align: middle;\n",
       "    }\n",
       "\n",
       "    .dataframe tbody tr th {\n",
       "        vertical-align: top;\n",
       "    }\n",
       "\n",
       "    .dataframe thead th {\n",
       "        text-align: right;\n",
       "    }\n",
       "</style>\n",
       "<table border=\"1\" class=\"dataframe\">\n",
       "  <thead>\n",
       "    <tr style=\"text-align: right;\">\n",
       "      <th></th>\n",
       "      <th>docno</th>\n",
       "      <th>qid</th>\n",
       "      <th>label</th>\n",
       "    </tr>\n",
       "  </thead>\n",
       "  <tbody>\n",
       "    <tr>\n",
       "      <th>63</th>\n",
       "      <td>297</td>\n",
       "      <td>26</td>\n",
       "      <td>1</td>\n",
       "    </tr>\n",
       "    <tr>\n",
       "      <th>208</th>\n",
       "      <td>148</td>\n",
       "      <td>29</td>\n",
       "      <td>1</td>\n",
       "    </tr>\n",
       "    <tr>\n",
       "      <th>302</th>\n",
       "      <td>167</td>\n",
       "      <td>15</td>\n",
       "      <td>1</td>\n",
       "    </tr>\n",
       "    <tr>\n",
       "      <th>509</th>\n",
       "      <td>875</td>\n",
       "      <td>17</td>\n",
       "      <td>1</td>\n",
       "    </tr>\n",
       "    <tr>\n",
       "      <th>659</th>\n",
       "      <td>12</td>\n",
       "      <td>25</td>\n",
       "      <td>1</td>\n",
       "    </tr>\n",
       "    <tr>\n",
       "      <th>838</th>\n",
       "      <td>301</td>\n",
       "      <td>23</td>\n",
       "      <td>1</td>\n",
       "    </tr>\n",
       "    <tr>\n",
       "      <th>1017</th>\n",
       "      <td>54</td>\n",
       "      <td>6</td>\n",
       "      <td>1</td>\n",
       "    </tr>\n",
       "    <tr>\n",
       "      <th>1078</th>\n",
       "      <td>451</td>\n",
       "      <td>5</td>\n",
       "      <td>1</td>\n",
       "    </tr>\n",
       "    <tr>\n",
       "      <th>1080</th>\n",
       "      <td>946</td>\n",
       "      <td>5</td>\n",
       "      <td>1</td>\n",
       "    </tr>\n",
       "    <tr>\n",
       "      <th>1170</th>\n",
       "      <td>409</td>\n",
       "      <td>21</td>\n",
       "      <td>1</td>\n",
       "    </tr>\n",
       "    <tr>\n",
       "      <th>1376</th>\n",
       "      <td>632</td>\n",
       "      <td>27</td>\n",
       "      <td>1</td>\n",
       "    </tr>\n",
       "    <tr>\n",
       "      <th>1439</th>\n",
       "      <td>212</td>\n",
       "      <td>9</td>\n",
       "      <td>1</td>\n",
       "    </tr>\n",
       "    <tr>\n",
       "      <th>1465</th>\n",
       "      <td>45</td>\n",
       "      <td>3</td>\n",
       "      <td>1</td>\n",
       "    </tr>\n",
       "    <tr>\n",
       "      <th>1617</th>\n",
       "      <td>598</td>\n",
       "      <td>45</td>\n",
       "      <td>1</td>\n",
       "    </tr>\n",
       "    <tr>\n",
       "      <th>1647</th>\n",
       "      <td>412</td>\n",
       "      <td>41</td>\n",
       "      <td>1</td>\n",
       "    </tr>\n",
       "    <tr>\n",
       "      <th>1795</th>\n",
       "      <td>158</td>\n",
       "      <td>22</td>\n",
       "      <td>1</td>\n",
       "    </tr>\n",
       "    <tr>\n",
       "      <th>1798</th>\n",
       "      <td>33</td>\n",
       "      <td>22</td>\n",
       "      <td>1</td>\n",
       "    </tr>\n",
       "    <tr>\n",
       "      <th>2544</th>\n",
       "      <td>300</td>\n",
       "      <td>49</td>\n",
       "      <td>1</td>\n",
       "    </tr>\n",
       "    <tr>\n",
       "      <th>2754</th>\n",
       "      <td>740</td>\n",
       "      <td>47</td>\n",
       "      <td>1</td>\n",
       "    </tr>\n",
       "    <tr>\n",
       "      <th>2755</th>\n",
       "      <td>949</td>\n",
       "      <td>47</td>\n",
       "      <td>1</td>\n",
       "    </tr>\n",
       "    <tr>\n",
       "      <th>2756</th>\n",
       "      <td>956</td>\n",
       "      <td>47</td>\n",
       "      <td>1</td>\n",
       "    </tr>\n",
       "    <tr>\n",
       "      <th>2846</th>\n",
       "      <td>670</td>\n",
       "      <td>43</td>\n",
       "      <td>1</td>\n",
       "    </tr>\n",
       "    <tr>\n",
       "      <th>2994</th>\n",
       "      <td>553</td>\n",
       "      <td>12</td>\n",
       "      <td>1</td>\n",
       "    </tr>\n",
       "    <tr>\n",
       "      <th>3026</th>\n",
       "      <td>691</td>\n",
       "      <td>0</td>\n",
       "      <td>1</td>\n",
       "    </tr>\n",
       "    <tr>\n",
       "      <th>3055</th>\n",
       "      <td>33</td>\n",
       "      <td>48</td>\n",
       "      <td>1</td>\n",
       "    </tr>\n",
       "    <tr>\n",
       "      <th>3172</th>\n",
       "      <td>164</td>\n",
       "      <td>39</td>\n",
       "      <td>1</td>\n",
       "    </tr>\n",
       "    <tr>\n",
       "      <th>3352</th>\n",
       "      <td>43</td>\n",
       "      <td>36</td>\n",
       "      <td>1</td>\n",
       "    </tr>\n",
       "    <tr>\n",
       "      <th>3386</th>\n",
       "      <td>585</td>\n",
       "      <td>40</td>\n",
       "      <td>1</td>\n",
       "    </tr>\n",
       "    <tr>\n",
       "      <th>3506</th>\n",
       "      <td>10</td>\n",
       "      <td>28</td>\n",
       "      <td>1</td>\n",
       "    </tr>\n",
       "    <tr>\n",
       "      <th>3683</th>\n",
       "      <td>421</td>\n",
       "      <td>18</td>\n",
       "      <td>1</td>\n",
       "    </tr>\n",
       "    <tr>\n",
       "      <th>3685</th>\n",
       "      <td>37</td>\n",
       "      <td>18</td>\n",
       "      <td>1</td>\n",
       "    </tr>\n",
       "    <tr>\n",
       "      <th>3774</th>\n",
       "      <td>797</td>\n",
       "      <td>32</td>\n",
       "      <td>1</td>\n",
       "    </tr>\n",
       "    <tr>\n",
       "      <th>3776</th>\n",
       "      <td>34</td>\n",
       "      <td>32</td>\n",
       "      <td>1</td>\n",
       "    </tr>\n",
       "    <tr>\n",
       "      <th>3803</th>\n",
       "      <td>123</td>\n",
       "      <td>16</td>\n",
       "      <td>1</td>\n",
       "    </tr>\n",
       "    <tr>\n",
       "      <th>4041</th>\n",
       "      <td>605</td>\n",
       "      <td>38</td>\n",
       "      <td>1</td>\n",
       "    </tr>\n",
       "    <tr>\n",
       "      <th>4100</th>\n",
       "      <td>187</td>\n",
       "      <td>13</td>\n",
       "      <td>1</td>\n",
       "    </tr>\n",
       "    <tr>\n",
       "      <th>4552</th>\n",
       "      <td>341</td>\n",
       "      <td>14</td>\n",
       "      <td>1</td>\n",
       "    </tr>\n",
       "    <tr>\n",
       "      <th>4849</th>\n",
       "      <td>68</td>\n",
       "      <td>30</td>\n",
       "      <td>1</td>\n",
       "    </tr>\n",
       "    <tr>\n",
       "      <th>4940</th>\n",
       "      <td>705</td>\n",
       "      <td>37</td>\n",
       "      <td>1</td>\n",
       "    </tr>\n",
       "    <tr>\n",
       "      <th>4997</th>\n",
       "      <td>68</td>\n",
       "      <td>8</td>\n",
       "      <td>1</td>\n",
       "    </tr>\n",
       "    <tr>\n",
       "      <th>5389</th>\n",
       "      <td>166</td>\n",
       "      <td>10</td>\n",
       "      <td>1</td>\n",
       "    </tr>\n",
       "    <tr>\n",
       "      <th>5480</th>\n",
       "      <td>27</td>\n",
       "      <td>35</td>\n",
       "      <td>1</td>\n",
       "    </tr>\n",
       "    <tr>\n",
       "      <th>5566</th>\n",
       "      <td>28</td>\n",
       "      <td>11</td>\n",
       "      <td>1</td>\n",
       "    </tr>\n",
       "    <tr>\n",
       "      <th>5600</th>\n",
       "      <td>996</td>\n",
       "      <td>33</td>\n",
       "      <td>1</td>\n",
       "    </tr>\n",
       "    <tr>\n",
       "      <th>5837</th>\n",
       "      <td>123</td>\n",
       "      <td>24</td>\n",
       "      <td>1</td>\n",
       "    </tr>\n",
       "    <tr>\n",
       "      <th>5899</th>\n",
       "      <td>433</td>\n",
       "      <td>7</td>\n",
       "      <td>1</td>\n",
       "    </tr>\n",
       "    <tr>\n",
       "      <th>6018</th>\n",
       "      <td>84</td>\n",
       "      <td>19</td>\n",
       "      <td>1</td>\n",
       "    </tr>\n",
       "    <tr>\n",
       "      <th>6170</th>\n",
       "      <td>775</td>\n",
       "      <td>31</td>\n",
       "      <td>1</td>\n",
       "    </tr>\n",
       "    <tr>\n",
       "      <th>6259</th>\n",
       "      <td>805</td>\n",
       "      <td>34</td>\n",
       "      <td>1</td>\n",
       "    </tr>\n",
       "    <tr>\n",
       "      <th>6495</th>\n",
       "      <td>84</td>\n",
       "      <td>46</td>\n",
       "      <td>1</td>\n",
       "    </tr>\n",
       "    <tr>\n",
       "      <th>6557</th>\n",
       "      <td>57</td>\n",
       "      <td>1</td>\n",
       "      <td>1</td>\n",
       "    </tr>\n",
       "    <tr>\n",
       "      <th>6676</th>\n",
       "      <td>66</td>\n",
       "      <td>2</td>\n",
       "      <td>1</td>\n",
       "    </tr>\n",
       "    <tr>\n",
       "      <th>6946</th>\n",
       "      <td>12</td>\n",
       "      <td>42</td>\n",
       "      <td>1</td>\n",
       "    </tr>\n",
       "    <tr>\n",
       "      <th>7008</th>\n",
       "      <td>10</td>\n",
       "      <td>4</td>\n",
       "      <td>1</td>\n",
       "    </tr>\n",
       "    <tr>\n",
       "      <th>7367</th>\n",
       "      <td>46</td>\n",
       "      <td>20</td>\n",
       "      <td>1</td>\n",
       "    </tr>\n",
       "    <tr>\n",
       "      <th>7394</th>\n",
       "      <td>183</td>\n",
       "      <td>44</td>\n",
       "      <td>1</td>\n",
       "    </tr>\n",
       "  </tbody>\n",
       "</table>\n",
       "</div>"
      ],
      "text/plain": [
       "      docno  qid label\n",
       "63      297   26     1\n",
       "208     148   29     1\n",
       "302     167   15     1\n",
       "509     875   17     1\n",
       "659      12   25     1\n",
       "838     301   23     1\n",
       "1017     54    6     1\n",
       "1078    451    5     1\n",
       "1080    946    5     1\n",
       "1170    409   21     1\n",
       "1376    632   27     1\n",
       "1439    212    9     1\n",
       "1465     45    3     1\n",
       "1617    598   45     1\n",
       "1647    412   41     1\n",
       "1795    158   22     1\n",
       "1798     33   22     1\n",
       "2544    300   49     1\n",
       "2754    740   47     1\n",
       "2755    949   47     1\n",
       "2756    956   47     1\n",
       "2846    670   43     1\n",
       "2994    553   12     1\n",
       "3026    691    0     1\n",
       "3055     33   48     1\n",
       "3172    164   39     1\n",
       "3352     43   36     1\n",
       "3386    585   40     1\n",
       "3506     10   28     1\n",
       "3683    421   18     1\n",
       "3685     37   18     1\n",
       "3774    797   32     1\n",
       "3776     34   32     1\n",
       "3803    123   16     1\n",
       "4041    605   38     1\n",
       "4100    187   13     1\n",
       "4552    341   14     1\n",
       "4849     68   30     1\n",
       "4940    705   37     1\n",
       "4997     68    8     1\n",
       "5389    166   10     1\n",
       "5480     27   35     1\n",
       "5566     28   11     1\n",
       "5600    996   33     1\n",
       "5837    123   24     1\n",
       "5899    433    7     1\n",
       "6018     84   19     1\n",
       "6170    775   31     1\n",
       "6259    805   34     1\n",
       "6495     84   46     1\n",
       "6557     57    1     1\n",
       "6676     66    2     1\n",
       "6946     12   42     1\n",
       "7008     10    4     1\n",
       "7367     46   20     1\n",
       "7394    183   44     1"
      ]
     },
     "execution_count": 26,
     "metadata": {},
     "output_type": "execute_result"
    }
   ],
   "source": [
    "qrels_df_new"
   ]
  },
  {
   "cell_type": "code",
   "execution_count": 27,
   "metadata": {},
   "outputs": [],
   "source": [
    "sw = stopwords.words('english')"
   ]
  },
  {
   "cell_type": "code",
   "execution_count": 28,
   "metadata": {},
   "outputs": [],
   "source": [
    "vectorizer = CountVectorizer(stop_words=sw, max_features=5000)\n",
    "vectors = vectorizer.fit_transform(docs_df_new[\"text\"])\n",
    "queries = vectorizer.transform(queries_df_new[\"query\"])"
   ]
  },
  {
   "cell_type": "code",
   "execution_count": 29,
   "metadata": {},
   "outputs": [
    {
     "data": {
      "text/plain": [
       "((1000, 5000), (50, 5000))"
      ]
     },
     "execution_count": 29,
     "metadata": {},
     "output_type": "execute_result"
    }
   ],
   "source": [
    "vectors.shape, queries.shape"
   ]
  },
  {
   "cell_type": "code",
   "execution_count": 30,
   "metadata": {},
   "outputs": [],
   "source": [
    "p_vectors = np.asarray(vectors.toarray())\n",
    "p_vec_sum = p_vectors.sum(axis=1)[:, np.newaxis]\n",
    "p_vectors = p_vectors / np.where(p_vec_sum == 0, 1., p_vec_sum)\n",
    "vectors = p_vectors"
   ]
  },
  {
   "cell_type": "code",
   "execution_count": 31,
   "metadata": {},
   "outputs": [],
   "source": [
    "p_queries = np.asarray(queries.toarray())\n",
    "p_quer_sum = p_queries.sum(axis=1)[:, np.newaxis]\n",
    "p_queries = p_queries / np.where(p_quer_sum == 0, 1., p_quer_sum)\n",
    "queries = p_queries"
   ]
  },
  {
   "cell_type": "code",
   "execution_count": 32,
   "metadata": {},
   "outputs": [
    {
     "data": {
      "text/plain": [
       "0"
      ]
     },
     "execution_count": 32,
     "metadata": {},
     "output_type": "execute_result"
    }
   ],
   "source": [
    "gc.collect()"
   ]
  },
  {
   "attachments": {},
   "cell_type": "markdown",
   "metadata": {},
   "source": [
    "## Comparaison QL CBDM LBDM :"
   ]
  },
  {
   "cell_type": "code",
   "execution_count": 33,
   "metadata": {},
   "outputs": [],
   "source": [
    "ql = LikelihoodRetrieval()\n",
    "ql.fit(vectors)\n",
    "predictions_ql = ql.predict(queries)"
   ]
  },
  {
   "cell_type": "code",
   "execution_count": 34,
   "metadata": {},
   "outputs": [],
   "source": [
    "cbdm = ClusterBasedRetrieval(n_topics=400, mu=1000)\n",
    "cbdm.fit(vectors, Nds=Nds)\n",
    "predictions_cbdm = cbdm.predict(queries)"
   ]
  },
  {
   "cell_type": "code",
   "execution_count": 35,
   "metadata": {},
   "outputs": [
    {
     "name": "stderr",
     "output_type": "stream",
     "text": [
      "Markov chain N° 1:   3%|▎         | 1/30 [03:31<1:42:01, 211.07s/it]\n"
     ]
    },
    {
     "ename": "KeyboardInterrupt",
     "evalue": "",
     "output_type": "error",
     "traceback": [
      "\u001b[0;31m---------------------------------------------------------------------------\u001b[0m",
      "\u001b[0;31mKeyboardInterrupt\u001b[0m                         Traceback (most recent call last)",
      "\u001b[1;32m/home/amayas/Etudes/RITAL/Ri/LDA-for-Ad-Hoc-retrieval/comparaison_models.ipynb Cell 44\u001b[0m in \u001b[0;36m<cell line: 2>\u001b[0;34m()\u001b[0m\n\u001b[1;32m      <a href='vscode-notebook-cell:/home/amayas/Etudes/RITAL/Ri/LDA-for-Ad-Hoc-retrieval/comparaison_models.ipynb#X63sZmlsZQ%3D%3D?line=0'>1</a>\u001b[0m lda \u001b[39m=\u001b[39m LdaRetrieval(n_topics\u001b[39m=\u001b[39m\u001b[39m400\u001b[39m, mu\u001b[39m=\u001b[39m\u001b[39m1000\u001b[39m, alpha\u001b[39m=\u001b[39m\u001b[39mNone\u001b[39;00m, beta\u001b[39m=\u001b[39m\u001b[39m0.01\u001b[39m, n_iter\u001b[39m=\u001b[39m\u001b[39m30\u001b[39m, nb_mc\u001b[39m=\u001b[39m\u001b[39m2\u001b[39m, lmbda\u001b[39m=\u001b[39m\u001b[39m0.7\u001b[39m)\n\u001b[0;32m----> <a href='vscode-notebook-cell:/home/amayas/Etudes/RITAL/Ri/LDA-for-Ad-Hoc-retrieval/comparaison_models.ipynb#X63sZmlsZQ%3D%3D?line=1'>2</a>\u001b[0m lda\u001b[39m.\u001b[39;49mfit(vectors, Nds\u001b[39m=\u001b[39;49mNds)\n\u001b[1;32m      <a href='vscode-notebook-cell:/home/amayas/Etudes/RITAL/Ri/LDA-for-Ad-Hoc-retrieval/comparaison_models.ipynb#X63sZmlsZQ%3D%3D?line=2'>3</a>\u001b[0m predictions_lda \u001b[39m=\u001b[39m lda\u001b[39m.\u001b[39mpredict(queries)\n",
      "File \u001b[0;32m~/Etudes/RITAL/Ri/LDA-for-Ad-Hoc-retrieval/./src/retrieval_system/lda.py:97\u001b[0m, in \u001b[0;36mLdaRetrieval.fit\u001b[0;34m(self, corpus, **kwargs)\u001b[0m\n\u001b[1;32m     94\u001b[0m \u001b[39msuper\u001b[39m()\u001b[39m.\u001b[39mfit(corpus, \u001b[39m*\u001b[39m\u001b[39m*\u001b[39mkwargs)\n\u001b[1;32m     95\u001b[0m \u001b[39mself\u001b[39m\u001b[39m.\u001b[39mNds \u001b[39m=\u001b[39m kwargs\u001b[39m.\u001b[39mget(\u001b[39m\"\u001b[39m\u001b[39mNds\u001b[39m\u001b[39m\"\u001b[39m, \u001b[39mself\u001b[39m\u001b[39m.\u001b[39mNds)\n\u001b[0;32m---> 97\u001b[0m psi, theta \u001b[39m=\u001b[39m gibbs_sampling(\n\u001b[1;32m     98\u001b[0m     \u001b[39mself\u001b[39;49m\u001b[39m.\u001b[39;49mcorpus,\n\u001b[1;32m     99\u001b[0m     \u001b[39mself\u001b[39;49m\u001b[39m.\u001b[39;49mn_topics,\n\u001b[1;32m    100\u001b[0m     n_iter\u001b[39m=\u001b[39;49m\u001b[39mself\u001b[39;49m\u001b[39m.\u001b[39;49mn_iter,\n\u001b[1;32m    101\u001b[0m     nb_mc\u001b[39m=\u001b[39;49m\u001b[39mself\u001b[39;49m\u001b[39m.\u001b[39;49mnb_mc,\n\u001b[1;32m    102\u001b[0m     alpha\u001b[39m=\u001b[39;49m\u001b[39mself\u001b[39;49m\u001b[39m.\u001b[39;49malpha,\n\u001b[1;32m    103\u001b[0m     beta\u001b[39m=\u001b[39;49m\u001b[39mself\u001b[39;49m\u001b[39m.\u001b[39;49mbeta,\n\u001b[1;32m    104\u001b[0m )\n\u001b[1;32m    106\u001b[0m \u001b[39mself\u001b[39m\u001b[39m.\u001b[39mgibbs_estimator \u001b[39m=\u001b[39m theta \u001b[39m@\u001b[39m psi\n",
      "File \u001b[0;32m~/Etudes/RITAL/Ri/LDA-for-Ad-Hoc-retrieval/./src/retrieval_system/lda.py:41\u001b[0m, in \u001b[0;36mgibbs_sampling\u001b[0;34m(docs, n_topics, n_iter, nb_mc, alpha, beta)\u001b[0m\n\u001b[1;32m     39\u001b[0m         word_ids \u001b[39m=\u001b[39m np\u001b[39m.\u001b[39mwhere(doc \u001b[39m!=\u001b[39m \u001b[39m0\u001b[39m)[\u001b[39m0\u001b[39m]\n\u001b[1;32m     40\u001b[0m         \u001b[39mfor\u001b[39;00m word_id \u001b[39min\u001b[39;00m word_ids:\n\u001b[0;32m---> 41\u001b[0m             sample_topic(doc_id, word_id, psi, theta, alpha, beta)\n\u001b[1;32m     43\u001b[0m psi_markov \u001b[39m+\u001b[39m\u001b[39m=\u001b[39m psi\n\u001b[1;32m     44\u001b[0m theta_markov \u001b[39m+\u001b[39m\u001b[39m=\u001b[39m theta\n",
      "File \u001b[0;32m~/Etudes/RITAL/Ri/LDA-for-Ad-Hoc-retrieval/./src/retrieval_system/lda.py:22\u001b[0m, in \u001b[0;36msample_topic\u001b[0;34m(doc_id, word_id, psi, theta, alpha, beta)\u001b[0m\n\u001b[1;32m     19\u001b[0m p_choice \u001b[39m=\u001b[39m topic_probs \u001b[39m*\u001b[39m doc_probs\n\u001b[1;32m     20\u001b[0m p_choice \u001b[39m/\u001b[39m\u001b[39m=\u001b[39m p_choice\u001b[39m.\u001b[39msum()\n\u001b[0;32m---> 22\u001b[0m new_topic \u001b[39m=\u001b[39m np\u001b[39m.\u001b[39;49mrandom\u001b[39m.\u001b[39;49mchoice(np\u001b[39m.\u001b[39;49marange(n_topics), p\u001b[39m=\u001b[39;49mp_choice)\n\u001b[1;32m     24\u001b[0m psi[new_topic, word_id] \u001b[39m+\u001b[39m\u001b[39m=\u001b[39m \u001b[39m1\u001b[39m\n\u001b[1;32m     25\u001b[0m theta[doc_id, new_topic] \u001b[39m+\u001b[39m\u001b[39m=\u001b[39m \u001b[39m1\u001b[39m\n",
      "\u001b[0;31mKeyboardInterrupt\u001b[0m: "
     ]
    }
   ],
   "source": [
    "lda = LdaRetrieval(n_topics=400, mu=1000, alpha=None, beta=0.01, n_iter=30, nb_mc=2, lmbda=0.7)\n",
    "lda.fit(vectors, Nds=Nds)\n",
    "predictions_lda = lda.predict(queries)"
   ]
  },
  {
   "cell_type": "code",
   "execution_count": null,
   "metadata": {},
   "outputs": [
    {
     "data": {
      "text/plain": [
       "array([0.27074405, 0.27826898, 0.27962505])"
      ]
     },
     "execution_count": 39,
     "metadata": {},
     "output_type": "execute_result"
    }
   ],
   "source": [
    "calculate_average_precision(true_relevance, np.array([predictions_ql, predictions_cbdm, predictions_lda]), return_df=True)"
   ]
  }
 ],
 "metadata": {
  "kernelspec": {
   "display_name": "base",
   "language": "python",
   "name": "python3"
  },
  "language_info": {
   "codemirror_mode": {
    "name": "ipython",
    "version": 3
   },
   "file_extension": ".py",
   "mimetype": "text/x-python",
   "name": "python",
   "nbconvert_exporter": "python",
   "pygments_lexer": "ipython3",
   "version": "3.9.12"
  },
  "orig_nbformat": 4
 },
 "nbformat": 4,
 "nbformat_minor": 2
}

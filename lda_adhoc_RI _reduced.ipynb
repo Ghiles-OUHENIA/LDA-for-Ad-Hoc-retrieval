{
 "cells": [
  {
   "cell_type": "code",
   "execution_count": 1,
   "metadata": {},
   "outputs": [],
   "source": [
    "import sys\n",
    "sys.path.append('./src')"
   ]
  },
  {
   "cell_type": "code",
   "execution_count": 2,
   "metadata": {},
   "outputs": [],
   "source": [
    "from retrieval_system.likelihood import LikelihoodRetrieval\n",
    "from retrieval_system.clustering import ClusterBasedRetrieval\n",
    "from retrieval_system.lda import LdaRetrieval\n",
    "\n",
    "from evaluation.metrics import calculate_average_precision"
   ]
  },
  {
   "cell_type": "code",
   "execution_count": 3,
   "metadata": {},
   "outputs": [],
   "source": [
    "import re\n",
    "import string\n",
    "import gc\n",
    "from tqdm import tqdm\n",
    "\n",
    "import pandas as pd\n",
    "import numpy as np\n",
    "import matplotlib.pyplot as plt\n",
    "\n",
    "from sklearn.feature_extraction.text import CountVectorizer\n",
    "from sklearn.preprocessing import LabelEncoder\n",
    "from nltk.corpus import stopwords\n",
    "\n",
    "import warnings\n",
    "warnings.filterwarnings('ignore')\n",
    "\n",
    "gc.enable()"
   ]
  },
  {
   "cell_type": "code",
   "execution_count": 4,
   "metadata": {},
   "outputs": [],
   "source": [
    "import ir_datasets\n",
    "dataset = ir_datasets.load(\"beir/scidocs\")"
   ]
  },
  {
   "cell_type": "code",
   "execution_count": 5,
   "metadata": {},
   "outputs": [],
   "source": [
    "docs_df = pd.DataFrame(columns=['text', 'docno'])\n",
    "docs_data = []\n",
    "\n",
    "for doc in dataset.docs_iter():\n",
    "    docs_data.append({'text': doc.text, 'docno': doc.doc_id})\n",
    "\n",
    "docs_df = pd.concat([docs_df, pd.DataFrame(docs_data)], ignore_index=True)"
   ]
  },
  {
   "cell_type": "code",
   "execution_count": 6,
   "metadata": {},
   "outputs": [],
   "source": [
    "queries_df = pd.DataFrame(columns=['query', 'qid'])\n",
    "queries_data = []\n",
    "\n",
    "for query in dataset.queries_iter():\n",
    "    queries_data.append({'query': query.text, 'qid': query.query_id})\n",
    "\n",
    "queries_df = pd.concat([queries_df, pd.DataFrame(queries_data)], ignore_index=True)"
   ]
  },
  {
   "cell_type": "code",
   "execution_count": 7,
   "metadata": {},
   "outputs": [],
   "source": [
    "qrels_df = pd.DataFrame(columns=['docno', 'qid', 'label'])\n",
    "qrels_data = []\n",
    "\n",
    "for qrel in dataset.qrels_iter():\n",
    "    qrels_data.append({'docno': qrel.doc_id, 'qid': qrel.query_id, 'label': qrel.relevance})\n",
    "\n",
    "qrels_df = pd.concat([qrels_df, pd.DataFrame(qrels_data)], ignore_index=True)\n",
    "qrels_df = qrels_df[qrels_df[\"label\"] != 0]"
   ]
  },
  {
   "cell_type": "code",
   "execution_count": 8,
   "metadata": {},
   "outputs": [],
   "source": [
    "doc_ids = np.unique(docs_df[\"docno\"])\n",
    "querie_ids = np.unique(queries_df[\"qid\"])\n",
    "\n",
    "encoder = LabelEncoder()\n",
    "encoder.fit(doc_ids)\n",
    "\n",
    "docs_df[\"docno\"] = encoder.transform(docs_df[\"docno\"])\n",
    "qrels_df[\"docno\"] =  encoder.transform(qrels_df[\"docno\"])\n",
    "\n",
    "encoder = LabelEncoder()\n",
    "encoder.fit(querie_ids)\n",
    "\n",
    "queries_df[\"qid\"] = encoder.transform(queries_df[\"qid\"])\n",
    "qrels_df[\"qid\"] =  encoder.transform(qrels_df[\"qid\"])"
   ]
  },
  {
   "cell_type": "code",
   "execution_count": 9,
   "metadata": {},
   "outputs": [
    {
     "data": {
      "text/plain": [
       "0        11706\n",
       "1        15445\n",
       "2         5010\n",
       "3         9626\n",
       "4         9725\n",
       "         ...  \n",
       "25652    16845\n",
       "25653    10603\n",
       "25654    15466\n",
       "25655     5027\n",
       "25656    23073\n",
       "Name: docno, Length: 25657, dtype: int64"
      ]
     },
     "execution_count": 9,
     "metadata": {},
     "output_type": "execute_result"
    }
   ],
   "source": [
    "docs_df[\"docno\"]"
   ]
  },
  {
   "cell_type": "code",
   "execution_count": 10,
   "metadata": {},
   "outputs": [
    {
     "data": {
      "text/html": [
       "<div>\n",
       "<style scoped>\n",
       "    .dataframe tbody tr th:only-of-type {\n",
       "        vertical-align: middle;\n",
       "    }\n",
       "\n",
       "    .dataframe tbody tr th {\n",
       "        vertical-align: top;\n",
       "    }\n",
       "\n",
       "    .dataframe thead th {\n",
       "        text-align: right;\n",
       "    }\n",
       "</style>\n",
       "<table border=\"1\" class=\"dataframe\">\n",
       "  <thead>\n",
       "    <tr style=\"text-align: right;\">\n",
       "      <th></th>\n",
       "      <th>text</th>\n",
       "      <th>docno</th>\n",
       "    </tr>\n",
       "  </thead>\n",
       "  <tbody>\n",
       "    <tr>\n",
       "      <th>0</th>\n",
       "      <td>An evolutionary recurrent network which automa...</td>\n",
       "      <td>11706</td>\n",
       "    </tr>\n",
       "    <tr>\n",
       "      <th>1</th>\n",
       "      <td>Dynamic economic dispatch (DED) is one of the ...</td>\n",
       "      <td>15445</td>\n",
       "    </tr>\n",
       "    <tr>\n",
       "      <th>2</th>\n",
       "      <td>It's not surprisingly when entering this site ...</td>\n",
       "      <td>5010</td>\n",
       "    </tr>\n",
       "    <tr>\n",
       "      <th>3</th>\n",
       "      <td>In this paper, we introduce a new parameter, c...</td>\n",
       "      <td>9626</td>\n",
       "    </tr>\n",
       "    <tr>\n",
       "      <th>4</th>\n",
       "      <td>This paper proposes a recurrent fuzzy neural n...</td>\n",
       "      <td>9725</td>\n",
       "    </tr>\n",
       "  </tbody>\n",
       "</table>\n",
       "</div>"
      ],
      "text/plain": [
       "                                                text  docno\n",
       "0  An evolutionary recurrent network which automa...  11706\n",
       "1  Dynamic economic dispatch (DED) is one of the ...  15445\n",
       "2  It's not surprisingly when entering this site ...   5010\n",
       "3  In this paper, we introduce a new parameter, c...   9626\n",
       "4  This paper proposes a recurrent fuzzy neural n...   9725"
      ]
     },
     "execution_count": 10,
     "metadata": {},
     "output_type": "execute_result"
    }
   ],
   "source": [
    "docs_df.head()"
   ]
  },
  {
   "cell_type": "code",
   "execution_count": 11,
   "metadata": {},
   "outputs": [
    {
     "data": {
      "text/html": [
       "<div>\n",
       "<style scoped>\n",
       "    .dataframe tbody tr th:only-of-type {\n",
       "        vertical-align: middle;\n",
       "    }\n",
       "\n",
       "    .dataframe tbody tr th {\n",
       "        vertical-align: top;\n",
       "    }\n",
       "\n",
       "    .dataframe thead th {\n",
       "        text-align: right;\n",
       "    }\n",
       "</style>\n",
       "<table border=\"1\" class=\"dataframe\">\n",
       "  <thead>\n",
       "    <tr style=\"text-align: right;\">\n",
       "      <th></th>\n",
       "      <th>query</th>\n",
       "      <th>qid</th>\n",
       "    </tr>\n",
       "  </thead>\n",
       "  <tbody>\n",
       "    <tr>\n",
       "      <th>0</th>\n",
       "      <td>A Direct Search Method to solve Economic Dispa...</td>\n",
       "      <td>523</td>\n",
       "    </tr>\n",
       "    <tr>\n",
       "      <th>1</th>\n",
       "      <td>Bearish-Bullish Sentiment Analysis on Financia...</td>\n",
       "      <td>554</td>\n",
       "    </tr>\n",
       "    <tr>\n",
       "      <th>2</th>\n",
       "      <td>Predicting defects in SAP Java code: An experi...</td>\n",
       "      <td>617</td>\n",
       "    </tr>\n",
       "    <tr>\n",
       "      <th>3</th>\n",
       "      <td>Active-Metric Learning for Classification of R...</td>\n",
       "      <td>262</td>\n",
       "    </tr>\n",
       "    <tr>\n",
       "      <th>4</th>\n",
       "      <td>Ad Hoc Retrieval Experiments Using WordNet and...</td>\n",
       "      <td>29</td>\n",
       "    </tr>\n",
       "  </tbody>\n",
       "</table>\n",
       "</div>"
      ],
      "text/plain": [
       "                                               query  qid\n",
       "0  A Direct Search Method to solve Economic Dispa...  523\n",
       "1  Bearish-Bullish Sentiment Analysis on Financia...  554\n",
       "2  Predicting defects in SAP Java code: An experi...  617\n",
       "3  Active-Metric Learning for Classification of R...  262\n",
       "4  Ad Hoc Retrieval Experiments Using WordNet and...   29"
      ]
     },
     "execution_count": 11,
     "metadata": {},
     "output_type": "execute_result"
    }
   ],
   "source": [
    "queries_df.head()"
   ]
  },
  {
   "cell_type": "code",
   "execution_count": 12,
   "metadata": {},
   "outputs": [
    {
     "data": {
      "text/html": [
       "<div>\n",
       "<style scoped>\n",
       "    .dataframe tbody tr th:only-of-type {\n",
       "        vertical-align: middle;\n",
       "    }\n",
       "\n",
       "    .dataframe tbody tr th {\n",
       "        vertical-align: top;\n",
       "    }\n",
       "\n",
       "    .dataframe thead th {\n",
       "        text-align: right;\n",
       "    }\n",
       "</style>\n",
       "<table border=\"1\" class=\"dataframe\">\n",
       "  <thead>\n",
       "    <tr style=\"text-align: right;\">\n",
       "      <th></th>\n",
       "      <th>docno</th>\n",
       "      <th>qid</th>\n",
       "      <th>label</th>\n",
       "    </tr>\n",
       "  </thead>\n",
       "  <tbody>\n",
       "    <tr>\n",
       "      <th>0</th>\n",
       "      <td>11706</td>\n",
       "      <td>523</td>\n",
       "      <td>1</td>\n",
       "    </tr>\n",
       "    <tr>\n",
       "      <th>1</th>\n",
       "      <td>15445</td>\n",
       "      <td>523</td>\n",
       "      <td>1</td>\n",
       "    </tr>\n",
       "    <tr>\n",
       "      <th>2</th>\n",
       "      <td>5010</td>\n",
       "      <td>523</td>\n",
       "      <td>1</td>\n",
       "    </tr>\n",
       "    <tr>\n",
       "      <th>3</th>\n",
       "      <td>9626</td>\n",
       "      <td>523</td>\n",
       "      <td>1</td>\n",
       "    </tr>\n",
       "    <tr>\n",
       "      <th>4</th>\n",
       "      <td>9725</td>\n",
       "      <td>523</td>\n",
       "      <td>1</td>\n",
       "    </tr>\n",
       "  </tbody>\n",
       "</table>\n",
       "</div>"
      ],
      "text/plain": [
       "   docno  qid label\n",
       "0  11706  523     1\n",
       "1  15445  523     1\n",
       "2   5010  523     1\n",
       "3   9626  523     1\n",
       "4   9725  523     1"
      ]
     },
     "execution_count": 12,
     "metadata": {},
     "output_type": "execute_result"
    }
   ],
   "source": [
    "qrels_df.head()"
   ]
  },
  {
   "attachments": {},
   "cell_type": "markdown",
   "metadata": {},
   "source": [
    "## Réduire la taille des données : "
   ]
  },
  {
   "attachments": {},
   "cell_type": "markdown",
   "metadata": {},
   "source": [
    "### 1. Sample N docs : "
   ]
  },
  {
   "cell_type": "code",
   "execution_count": 26,
   "metadata": {},
   "outputs": [
    {
     "data": {
      "text/plain": [
       "(10,)"
      ]
     },
     "execution_count": 26,
     "metadata": {},
     "output_type": "execute_result"
    }
   ],
   "source": [
    "N_docs = 10\n",
    "indices = np.arange(len(docs_df))\n",
    "np.random.shuffle(indices)\n",
    "\n",
    "docs_df_reduce = docs_df.iloc[indices[0:N_docs]].reset_index(drop=True)\n",
    "doc_ids = np.unique(docs_df_reduce[\"docno\"])\n",
    "doc_ids.shape"
   ]
  },
  {
   "attachments": {},
   "cell_type": "markdown",
   "metadata": {},
   "source": [
    "Mettre à jour le qrel avec les nouveaux doc retenus : "
   ]
  },
  {
   "cell_type": "code",
   "execution_count": 27,
   "metadata": {},
   "outputs": [
    {
     "data": {
      "text/plain": [
       "(4,)"
      ]
     },
     "execution_count": 27,
     "metadata": {},
     "output_type": "execute_result"
    }
   ],
   "source": [
    "qrels_df_1 = qrels_df[qrels_df[\"docno\"].isin(doc_ids)]\n",
    "query_ids = np.unique(qrels_df_1[\"qid\"])\n",
    "query_ids.shape"
   ]
  },
  {
   "attachments": {},
   "cell_type": "markdown",
   "metadata": {},
   "source": [
    "Mettre à jour les queries avec celles qui existent dans qrels : "
   ]
  },
  {
   "cell_type": "code",
   "execution_count": 28,
   "metadata": {},
   "outputs": [
    {
     "data": {
      "text/plain": [
       "(4, 2)"
      ]
     },
     "execution_count": 28,
     "metadata": {},
     "output_type": "execute_result"
    }
   ],
   "source": [
    "queries_df_1 = queries_df[queries_df[\"qid\"].isin(query_ids)]\n",
    "queries_df_1.shape"
   ]
  },
  {
   "attachments": {},
   "cell_type": "markdown",
   "metadata": {},
   "source": [
    "### 2. Sample N queries : "
   ]
  },
  {
   "cell_type": "code",
   "execution_count": 29,
   "metadata": {},
   "outputs": [
    {
     "data": {
      "text/plain": [
       "(4,)"
      ]
     },
     "execution_count": 29,
     "metadata": {},
     "output_type": "execute_result"
    }
   ],
   "source": [
    "N_queries = 80\n",
    "indices = np.arange(len(queries_df_1))\n",
    "queries_df_reduce = queries_df_1.iloc[indices[0:N_queries]].reset_index(drop=True)\n",
    "query_ids = np.unique(queries_df_reduce[\"qid\"])\n",
    "query_ids.shape"
   ]
  },
  {
   "attachments": {},
   "cell_type": "markdown",
   "metadata": {},
   "source": [
    "Mettre à jour le qrel avec les nouvelles query retenues : "
   ]
  },
  {
   "cell_type": "code",
   "execution_count": 30,
   "metadata": {},
   "outputs": [
    {
     "data": {
      "text/plain": [
       "(4, 3)"
      ]
     },
     "execution_count": 30,
     "metadata": {},
     "output_type": "execute_result"
    }
   ],
   "source": [
    "qrels_df_2 = qrels_df_1[qrels_df_1[\"qid\"].isin(query_ids)]\n",
    "qrels_df_2.shape"
   ]
  },
  {
   "attachments": {},
   "cell_type": "markdown",
   "metadata": {},
   "source": [
    "### 3. Mettre à jour les df :"
   ]
  },
  {
   "cell_type": "code",
   "execution_count": 31,
   "metadata": {},
   "outputs": [],
   "source": [
    "docs_df_new = docs_df_reduce\n",
    "queries_df_new = queries_df_reduce\n",
    "qrels_df_new = qrels_df_2"
   ]
  },
  {
   "cell_type": "code",
   "execution_count": 32,
   "metadata": {},
   "outputs": [
    {
     "data": {
      "text/plain": [
       "((10, 2), (4, 2), (4, 3))"
      ]
     },
     "execution_count": 32,
     "metadata": {},
     "output_type": "execute_result"
    }
   ],
   "source": [
    "docs_df_new.shape, queries_df_new.shape, qrels_df_new.shape"
   ]
  },
  {
   "attachments": {},
   "cell_type": "markdown",
   "metadata": {},
   "source": [
    "### 4. Re-coder les id :"
   ]
  },
  {
   "cell_type": "code",
   "execution_count": 33,
   "metadata": {},
   "outputs": [],
   "source": [
    "doc_ids = np.unique(docs_df_new[\"docno\"])\n",
    "querie_ids = np.unique(queries_df_new[\"qid\"])\n",
    "\n",
    "encoder = LabelEncoder()\n",
    "encoder.fit(doc_ids)\n",
    "\n",
    "docs_df_new[\"docno\"] = encoder.transform(docs_df_new[\"docno\"])\n",
    "qrels_df_new[\"docno\"] =  encoder.transform(qrels_df_new[\"docno\"])\n",
    "\n",
    "encoder = LabelEncoder()\n",
    "encoder.fit(querie_ids)\n",
    "\n",
    "queries_df_new[\"qid\"] = encoder.transform(queries_df_new[\"qid\"])\n",
    "qrels_df_new[\"qid\"] =  encoder.transform(qrels_df_new[\"qid\"])"
   ]
  },
  {
   "cell_type": "code",
   "execution_count": 34,
   "metadata": {},
   "outputs": [
    {
     "data": {
      "text/plain": [
       "0    103\n",
       "1    399\n",
       "2    187\n",
       "3    133\n",
       "4    159\n",
       "5    134\n",
       "6    206\n",
       "7    225\n",
       "8    242\n",
       "9    169\n",
       "Name: text, dtype: int64"
      ]
     },
     "execution_count": 34,
     "metadata": {},
     "output_type": "execute_result"
    }
   ],
   "source": [
    "Nds = docs_df_new[\"text\"].map(lambda t: re.sub('[' + re.escape(string.punctuation) + ']', ' ', t).split(\" \")).map(lambda l : list(filter((\"\").__ne__, l))).map(len)\n",
    "Nds"
   ]
  },
  {
   "cell_type": "code",
   "execution_count": 35,
   "metadata": {},
   "outputs": [],
   "source": [
    "true_relevance = np.zeros((len(queries_df_new), len(docs_df_new)))\n",
    "\n",
    "for _, row in qrels_df_new.iterrows():\n",
    "    qid = row['qid']\n",
    "    docno = row['docno']\n",
    "    \n",
    "    if row[\"label\"] != 0:\n",
    "        true_relevance[int(qid), int(docno)] = 1"
   ]
  },
  {
   "cell_type": "code",
   "execution_count": 36,
   "metadata": {},
   "outputs": [
    {
     "data": {
      "text/plain": [
       "1.0"
      ]
     },
     "execution_count": 36,
     "metadata": {},
     "output_type": "execute_result"
    }
   ],
   "source": [
    "true_relevance[qrels_df_new[\"qid\"].iloc[0], qrels_df_new[\"docno\"].iloc[0]]"
   ]
  },
  {
   "cell_type": "code",
   "execution_count": 37,
   "metadata": {},
   "outputs": [
    {
     "data": {
      "text/html": [
       "<div>\n",
       "<style scoped>\n",
       "    .dataframe tbody tr th:only-of-type {\n",
       "        vertical-align: middle;\n",
       "    }\n",
       "\n",
       "    .dataframe tbody tr th {\n",
       "        vertical-align: top;\n",
       "    }\n",
       "\n",
       "    .dataframe thead th {\n",
       "        text-align: right;\n",
       "    }\n",
       "</style>\n",
       "<table border=\"1\" class=\"dataframe\">\n",
       "  <thead>\n",
       "    <tr style=\"text-align: right;\">\n",
       "      <th></th>\n",
       "      <th>docno</th>\n",
       "      <th>qid</th>\n",
       "      <th>label</th>\n",
       "    </tr>\n",
       "  </thead>\n",
       "  <tbody>\n",
       "    <tr>\n",
       "      <th>3443</th>\n",
       "      <td>6</td>\n",
       "      <td>0</td>\n",
       "      <td>1</td>\n",
       "    </tr>\n",
       "    <tr>\n",
       "      <th>6705</th>\n",
       "      <td>0</td>\n",
       "      <td>3</td>\n",
       "      <td>1</td>\n",
       "    </tr>\n",
       "    <tr>\n",
       "      <th>13651</th>\n",
       "      <td>7</td>\n",
       "      <td>2</td>\n",
       "      <td>1</td>\n",
       "    </tr>\n",
       "    <tr>\n",
       "      <th>27449</th>\n",
       "      <td>1</td>\n",
       "      <td>1</td>\n",
       "      <td>1</td>\n",
       "    </tr>\n",
       "  </tbody>\n",
       "</table>\n",
       "</div>"
      ],
      "text/plain": [
       "       docno  qid label\n",
       "3443       6    0     1\n",
       "6705       0    3     1\n",
       "13651      7    2     1\n",
       "27449      1    1     1"
      ]
     },
     "execution_count": 37,
     "metadata": {},
     "output_type": "execute_result"
    }
   ],
   "source": [
    "qrels_df_new"
   ]
  },
  {
   "cell_type": "code",
   "execution_count": 38,
   "metadata": {},
   "outputs": [],
   "source": [
    "sw = stopwords.words('english')"
   ]
  },
  {
   "cell_type": "code",
   "execution_count": 79,
   "metadata": {},
   "outputs": [],
   "source": [
    "vectorizer = CountVectorizer(stop_words=sw, max_features=5000)\n",
    "vectors = vectorizer.fit_transform(docs_df_new[\"text\"])\n",
    "queries = vectorizer.transform(queries_df_new[\"query\"])"
   ]
  },
  {
   "cell_type": "code",
   "execution_count": 80,
   "metadata": {},
   "outputs": [
    {
     "data": {
      "text/plain": [
       "((10, 761), (4, 761))"
      ]
     },
     "execution_count": 80,
     "metadata": {},
     "output_type": "execute_result"
    }
   ],
   "source": [
    "vectors.shape, queries.shape"
   ]
  },
  {
   "cell_type": "code",
   "execution_count": 81,
   "metadata": {},
   "outputs": [],
   "source": [
    "p_vectors = np.asarray(vectors.toarray())\n",
    "p_vec_sum = p_vectors.sum(axis=1)[:, np.newaxis]\n",
    "p_vectors = p_vectors / np.where(p_vec_sum == 0, 1., p_vec_sum)\n",
    "vectors = p_vectors"
   ]
  },
  {
   "cell_type": "code",
   "execution_count": 82,
   "metadata": {},
   "outputs": [],
   "source": [
    "p_queries = np.asarray(queries.toarray())\n",
    "p_quer_sum = p_queries.sum(axis=1)[:, np.newaxis]\n",
    "p_queries = p_queries / np.where(p_quer_sum == 0, 1., p_quer_sum)\n",
    "queries = p_queries"
   ]
  },
  {
   "cell_type": "code",
   "execution_count": 83,
   "metadata": {},
   "outputs": [
    {
     "data": {
      "text/plain": [
       "1443"
      ]
     },
     "execution_count": 83,
     "metadata": {},
     "output_type": "execute_result"
    }
   ],
   "source": [
    "gc.collect()"
   ]
  },
  {
   "attachments": {},
   "cell_type": "markdown",
   "metadata": {},
   "source": [
    "## Varier K :"
   ]
  },
  {
   "cell_type": "code",
   "execution_count": 44,
   "metadata": {},
   "outputs": [],
   "source": [
    "# k_lda_ap = []\n",
    "\n",
    "# for K in tqdm(range(100, 1501, 100)):\n",
    "#     lda = LdaRetrieval(n_topics=K, mu=1000, alpha=None, beta=0.01, n_iter=30, nb_mc=2, lmbda=0.7)\n",
    "#     lda.fit(vectors, Nds=Nds)\n",
    "    \n",
    "#     lda_pred = lda.predict(queries)\n",
    "#     k_lda_ap.append(calculate_average_precision(true_relevance, np.array([lda_pred]), num_thresholds=1, column_names=[\"LDA\"])[\"LDA\"].iloc[0])\n",
    "#     gc.collect()"
   ]
  },
  {
   "attachments": {},
   "cell_type": "markdown",
   "metadata": {},
   "source": [
    "## Comparaison QL CBDM LBDM :"
   ]
  },
  {
   "cell_type": "code",
   "execution_count": 85,
   "metadata": {},
   "outputs": [],
   "source": [
    "ql = LikelihoodRetrieval()\n",
    "ql.fit(vectors)\n",
    "predictions_ql = ql.predict(queries)"
   ]
  },
  {
   "cell_type": "code",
   "execution_count": 86,
   "metadata": {},
   "outputs": [],
   "source": [
    "cbdm = ClusterBasedRetrieval(n_topics=5, mu=1000)\n",
    "cbdm.fit(vectors, Nds=Nds)\n",
    "predictions_cbdm = cbdm.predict(queries)"
   ]
  },
  {
   "cell_type": "code",
   "execution_count": 87,
   "metadata": {},
   "outputs": [
    {
     "name": "stderr",
     "output_type": "stream",
     "text": [
      "Markov chain N° 1: 100%|██████████| 30/30 [00:03<00:00,  8.55it/s]\n",
      "Markov chain N° 2: 100%|██████████| 30/30 [00:03<00:00,  8.49it/s]\n"
     ]
    }
   ],
   "source": [
    "lda = LdaRetrieval(n_topics=400, mu=1000, alpha=None, beta=0.01, n_iter=30, nb_mc=2, lmbda=0.7)\n",
    "lda.fit(vectors, Nds=Nds)\n",
    "predictions_lda = lda.predict(queries)"
   ]
  },
  {
   "cell_type": "code",
   "execution_count": 88,
   "metadata": {},
   "outputs": [
    {
     "data": {
      "text/html": [
       "<div>\n",
       "<style scoped>\n",
       "    .dataframe tbody tr th:only-of-type {\n",
       "        vertical-align: middle;\n",
       "    }\n",
       "\n",
       "    .dataframe tbody tr th {\n",
       "        vertical-align: top;\n",
       "    }\n",
       "\n",
       "    .dataframe thead th {\n",
       "        text-align: right;\n",
       "    }\n",
       "</style>\n",
       "<table border=\"1\" class=\"dataframe\">\n",
       "  <thead>\n",
       "    <tr style=\"text-align: right;\">\n",
       "      <th></th>\n",
       "      <th>QL</th>\n",
       "      <th>CBDM</th>\n",
       "      <th>LBDM</th>\n",
       "    </tr>\n",
       "  </thead>\n",
       "  <tbody>\n",
       "    <tr>\n",
       "      <th>0</th>\n",
       "      <td>0.495833</td>\n",
       "      <td>0.285714</td>\n",
       "      <td>0.46875</td>\n",
       "    </tr>\n",
       "    <tr>\n",
       "      <th>1</th>\n",
       "      <td>0.362500</td>\n",
       "      <td>0.173214</td>\n",
       "      <td>0.35625</td>\n",
       "    </tr>\n",
       "    <tr>\n",
       "      <th>2</th>\n",
       "      <td>0.362500</td>\n",
       "      <td>0.173214</td>\n",
       "      <td>0.35625</td>\n",
       "    </tr>\n",
       "    <tr>\n",
       "      <th>3</th>\n",
       "      <td>0.362500</td>\n",
       "      <td>0.173214</td>\n",
       "      <td>0.35625</td>\n",
       "    </tr>\n",
       "    <tr>\n",
       "      <th>4</th>\n",
       "      <td>0.362500</td>\n",
       "      <td>0.173214</td>\n",
       "      <td>0.35625</td>\n",
       "    </tr>\n",
       "    <tr>\n",
       "      <th>5</th>\n",
       "      <td>0.362500</td>\n",
       "      <td>0.173214</td>\n",
       "      <td>0.35625</td>\n",
       "    </tr>\n",
       "    <tr>\n",
       "      <th>6</th>\n",
       "      <td>0.362500</td>\n",
       "      <td>0.173214</td>\n",
       "      <td>0.35625</td>\n",
       "    </tr>\n",
       "    <tr>\n",
       "      <th>7</th>\n",
       "      <td>0.362500</td>\n",
       "      <td>0.173214</td>\n",
       "      <td>0.35625</td>\n",
       "    </tr>\n",
       "    <tr>\n",
       "      <th>8</th>\n",
       "      <td>0.362500</td>\n",
       "      <td>0.173214</td>\n",
       "      <td>0.35625</td>\n",
       "    </tr>\n",
       "    <tr>\n",
       "      <th>9</th>\n",
       "      <td>0.362500</td>\n",
       "      <td>0.173214</td>\n",
       "      <td>0.35625</td>\n",
       "    </tr>\n",
       "    <tr>\n",
       "      <th>10</th>\n",
       "      <td>0.362500</td>\n",
       "      <td>0.173214</td>\n",
       "      <td>0.35625</td>\n",
       "    </tr>\n",
       "  </tbody>\n",
       "</table>\n",
       "</div>"
      ],
      "text/plain": [
       "          QL      CBDM     LBDM\n",
       "0   0.495833  0.285714  0.46875\n",
       "1   0.362500  0.173214  0.35625\n",
       "2   0.362500  0.173214  0.35625\n",
       "3   0.362500  0.173214  0.35625\n",
       "4   0.362500  0.173214  0.35625\n",
       "5   0.362500  0.173214  0.35625\n",
       "6   0.362500  0.173214  0.35625\n",
       "7   0.362500  0.173214  0.35625\n",
       "8   0.362500  0.173214  0.35625\n",
       "9   0.362500  0.173214  0.35625\n",
       "10  0.362500  0.173214  0.35625"
      ]
     },
     "execution_count": 88,
     "metadata": {},
     "output_type": "execute_result"
    }
   ],
   "source": [
    "calculate_average_precision(true_relevance, np.array([predictions_ql, predictions_cbdm, predictions_lda]), num_thresholds=11, column_names=[\"QL\", \"CBDM\", \"LBDM\"])"
   ]
  },
  {
   "cell_type": "code",
   "execution_count": 90,
   "metadata": {},
   "outputs": [
    {
     "data": {
      "text/plain": [
       "(array([1., 1.]), array([1., 0.]), array([1.]))"
      ]
     },
     "execution_count": 90,
     "metadata": {},
     "output_type": "execute_result"
    }
   ],
   "source": [
    "from sklearn.metrics import precision_recall_curve, average_precision_score\n",
    "\n",
    "precision_recall_curve(true_relevance[0], true_relevance[0])"
   ]
  },
  {
   "cell_type": "code",
   "execution_count": 93,
   "metadata": {},
   "outputs": [
    {
     "data": {
      "text/plain": [
       "0.1"
      ]
     },
     "execution_count": 93,
     "metadata": {},
     "output_type": "execute_result"
    }
   ],
   "source": [
    "average_precision_score(true_relevance[0], predictions_ql[0])"
   ]
  }
 ],
 "metadata": {
  "kernelspec": {
   "display_name": "base",
   "language": "python",
   "name": "python3"
  },
  "language_info": {
   "codemirror_mode": {
    "name": "ipython",
    "version": 3
   },
   "file_extension": ".py",
   "mimetype": "text/x-python",
   "name": "python",
   "nbconvert_exporter": "python",
   "pygments_lexer": "ipython3",
   "version": "3.9.12"
  },
  "orig_nbformat": 4
 },
 "nbformat": 4,
 "nbformat_minor": 2
}

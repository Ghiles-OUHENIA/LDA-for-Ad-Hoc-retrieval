{
 "cells": [
  {
   "cell_type": "code",
   "execution_count": 1,
   "metadata": {},
   "outputs": [],
   "source": [
    "import sys\n",
    "sys.path.append('./src')"
   ]
  },
  {
   "cell_type": "code",
   "execution_count": 2,
   "metadata": {},
   "outputs": [],
   "source": [
    "from retrieval_system.likelihood import LikelihoodRetrieval\n",
    "from retrieval_system.clustering import ClusterBasedRetrieval\n",
    "from retrieval_system.lda import LdaRetrieval\n",
    "\n",
    "from evaluation.metrics import calculate_average_precision"
   ]
  },
  {
   "cell_type": "code",
   "execution_count": 3,
   "metadata": {},
   "outputs": [],
   "source": [
    "import re\n",
    "import string\n",
    "import gc\n",
    "from tqdm import tqdm\n",
    "\n",
    "import pandas as pd\n",
    "import numpy as np\n",
    "import matplotlib.pyplot as plt\n",
    "\n",
    "from sklearn.feature_extraction.text import CountVectorizer\n",
    "from sklearn.preprocessing import LabelEncoder\n",
    "from nltk.corpus import stopwords\n",
    "\n",
    "import warnings\n",
    "warnings.filterwarnings('ignore')\n",
    "\n",
    "gc.enable()"
   ]
  },
  {
   "cell_type": "code",
   "execution_count": 4,
   "metadata": {},
   "outputs": [],
   "source": [
    "import ir_datasets\n",
    "dataset = ir_datasets.load(\"beir/scidocs\")"
   ]
  },
  {
   "cell_type": "code",
   "execution_count": 5,
   "metadata": {},
   "outputs": [],
   "source": [
    "docs_df = pd.DataFrame(columns=['text', 'docno'])\n",
    "docs_data = []\n",
    "\n",
    "for doc in dataset.docs_iter():\n",
    "    docs_data.append({'text': doc.text, 'docno': doc.doc_id})\n",
    "\n",
    "docs_df = pd.concat([docs_df, pd.DataFrame(docs_data)], ignore_index=True)"
   ]
  },
  {
   "cell_type": "code",
   "execution_count": 6,
   "metadata": {},
   "outputs": [],
   "source": [
    "queries_df = pd.DataFrame(columns=['query', 'qid'])\n",
    "queries_data = []\n",
    "\n",
    "for query in dataset.queries_iter():\n",
    "    queries_data.append({'query': query.text, 'qid': query.query_id})\n",
    "\n",
    "queries_df = pd.concat([queries_df, pd.DataFrame(queries_data)], ignore_index=True)"
   ]
  },
  {
   "cell_type": "code",
   "execution_count": 7,
   "metadata": {},
   "outputs": [],
   "source": [
    "qrels_df = pd.DataFrame(columns=['docno', 'qid', 'label'])\n",
    "qrels_data = []\n",
    "\n",
    "for qrel in dataset.qrels_iter():\n",
    "    qrels_data.append({'docno': qrel.doc_id, 'qid': qrel.query_id, 'label': qrel.relevance})\n",
    "\n",
    "qrels_df = pd.concat([qrels_df, pd.DataFrame(qrels_data)], ignore_index=True)\n",
    "qrels_df = qrels_df[qrels_df[\"label\"] != 0]"
   ]
  },
  {
   "cell_type": "code",
   "execution_count": 8,
   "metadata": {},
   "outputs": [],
   "source": [
    "doc_ids = np.unique(docs_df[\"docno\"])\n",
    "querie_ids = np.unique(queries_df[\"qid\"])\n",
    "\n",
    "encoder = LabelEncoder()\n",
    "encoder.fit(doc_ids)\n",
    "\n",
    "docs_df[\"docno\"] = encoder.transform(docs_df[\"docno\"])\n",
    "qrels_df[\"docno\"] =  encoder.transform(qrels_df[\"docno\"])\n",
    "\n",
    "encoder = LabelEncoder()\n",
    "encoder.fit(querie_ids)\n",
    "\n",
    "queries_df[\"qid\"] = encoder.transform(queries_df[\"qid\"])\n",
    "qrels_df[\"qid\"] =  encoder.transform(qrels_df[\"qid\"])"
   ]
  },
  {
   "cell_type": "code",
   "execution_count": 9,
   "metadata": {},
   "outputs": [
    {
     "data": {
      "text/plain": [
       "0        11706\n",
       "1        15445\n",
       "2         5010\n",
       "3         9626\n",
       "4         9725\n",
       "         ...  \n",
       "25652    16845\n",
       "25653    10603\n",
       "25654    15466\n",
       "25655     5027\n",
       "25656    23073\n",
       "Name: docno, Length: 25657, dtype: int64"
      ]
     },
     "execution_count": 9,
     "metadata": {},
     "output_type": "execute_result"
    }
   ],
   "source": [
    "docs_df[\"docno\"]"
   ]
  },
  {
   "cell_type": "code",
   "execution_count": 10,
   "metadata": {},
   "outputs": [
    {
     "data": {
      "text/html": [
       "<div>\n",
       "<style scoped>\n",
       "    .dataframe tbody tr th:only-of-type {\n",
       "        vertical-align: middle;\n",
       "    }\n",
       "\n",
       "    .dataframe tbody tr th {\n",
       "        vertical-align: top;\n",
       "    }\n",
       "\n",
       "    .dataframe thead th {\n",
       "        text-align: right;\n",
       "    }\n",
       "</style>\n",
       "<table border=\"1\" class=\"dataframe\">\n",
       "  <thead>\n",
       "    <tr style=\"text-align: right;\">\n",
       "      <th></th>\n",
       "      <th>text</th>\n",
       "      <th>docno</th>\n",
       "    </tr>\n",
       "  </thead>\n",
       "  <tbody>\n",
       "    <tr>\n",
       "      <th>0</th>\n",
       "      <td>An evolutionary recurrent network which automa...</td>\n",
       "      <td>11706</td>\n",
       "    </tr>\n",
       "    <tr>\n",
       "      <th>1</th>\n",
       "      <td>Dynamic economic dispatch (DED) is one of the ...</td>\n",
       "      <td>15445</td>\n",
       "    </tr>\n",
       "    <tr>\n",
       "      <th>2</th>\n",
       "      <td>It's not surprisingly when entering this site ...</td>\n",
       "      <td>5010</td>\n",
       "    </tr>\n",
       "    <tr>\n",
       "      <th>3</th>\n",
       "      <td>In this paper, we introduce a new parameter, c...</td>\n",
       "      <td>9626</td>\n",
       "    </tr>\n",
       "    <tr>\n",
       "      <th>4</th>\n",
       "      <td>This paper proposes a recurrent fuzzy neural n...</td>\n",
       "      <td>9725</td>\n",
       "    </tr>\n",
       "  </tbody>\n",
       "</table>\n",
       "</div>"
      ],
      "text/plain": [
       "                                                text  docno\n",
       "0  An evolutionary recurrent network which automa...  11706\n",
       "1  Dynamic economic dispatch (DED) is one of the ...  15445\n",
       "2  It's not surprisingly when entering this site ...   5010\n",
       "3  In this paper, we introduce a new parameter, c...   9626\n",
       "4  This paper proposes a recurrent fuzzy neural n...   9725"
      ]
     },
     "execution_count": 10,
     "metadata": {},
     "output_type": "execute_result"
    }
   ],
   "source": [
    "docs_df.head()"
   ]
  },
  {
   "cell_type": "code",
   "execution_count": 11,
   "metadata": {},
   "outputs": [
    {
     "data": {
      "text/html": [
       "<div>\n",
       "<style scoped>\n",
       "    .dataframe tbody tr th:only-of-type {\n",
       "        vertical-align: middle;\n",
       "    }\n",
       "\n",
       "    .dataframe tbody tr th {\n",
       "        vertical-align: top;\n",
       "    }\n",
       "\n",
       "    .dataframe thead th {\n",
       "        text-align: right;\n",
       "    }\n",
       "</style>\n",
       "<table border=\"1\" class=\"dataframe\">\n",
       "  <thead>\n",
       "    <tr style=\"text-align: right;\">\n",
       "      <th></th>\n",
       "      <th>query</th>\n",
       "      <th>qid</th>\n",
       "    </tr>\n",
       "  </thead>\n",
       "  <tbody>\n",
       "    <tr>\n",
       "      <th>0</th>\n",
       "      <td>A Direct Search Method to solve Economic Dispa...</td>\n",
       "      <td>523</td>\n",
       "    </tr>\n",
       "    <tr>\n",
       "      <th>1</th>\n",
       "      <td>Bearish-Bullish Sentiment Analysis on Financia...</td>\n",
       "      <td>554</td>\n",
       "    </tr>\n",
       "    <tr>\n",
       "      <th>2</th>\n",
       "      <td>Predicting defects in SAP Java code: An experi...</td>\n",
       "      <td>617</td>\n",
       "    </tr>\n",
       "    <tr>\n",
       "      <th>3</th>\n",
       "      <td>Active-Metric Learning for Classification of R...</td>\n",
       "      <td>262</td>\n",
       "    </tr>\n",
       "    <tr>\n",
       "      <th>4</th>\n",
       "      <td>Ad Hoc Retrieval Experiments Using WordNet and...</td>\n",
       "      <td>29</td>\n",
       "    </tr>\n",
       "  </tbody>\n",
       "</table>\n",
       "</div>"
      ],
      "text/plain": [
       "                                               query  qid\n",
       "0  A Direct Search Method to solve Economic Dispa...  523\n",
       "1  Bearish-Bullish Sentiment Analysis on Financia...  554\n",
       "2  Predicting defects in SAP Java code: An experi...  617\n",
       "3  Active-Metric Learning for Classification of R...  262\n",
       "4  Ad Hoc Retrieval Experiments Using WordNet and...   29"
      ]
     },
     "execution_count": 11,
     "metadata": {},
     "output_type": "execute_result"
    }
   ],
   "source": [
    "queries_df.head()"
   ]
  },
  {
   "cell_type": "code",
   "execution_count": 12,
   "metadata": {},
   "outputs": [
    {
     "data": {
      "text/html": [
       "<div>\n",
       "<style scoped>\n",
       "    .dataframe tbody tr th:only-of-type {\n",
       "        vertical-align: middle;\n",
       "    }\n",
       "\n",
       "    .dataframe tbody tr th {\n",
       "        vertical-align: top;\n",
       "    }\n",
       "\n",
       "    .dataframe thead th {\n",
       "        text-align: right;\n",
       "    }\n",
       "</style>\n",
       "<table border=\"1\" class=\"dataframe\">\n",
       "  <thead>\n",
       "    <tr style=\"text-align: right;\">\n",
       "      <th></th>\n",
       "      <th>docno</th>\n",
       "      <th>qid</th>\n",
       "      <th>label</th>\n",
       "    </tr>\n",
       "  </thead>\n",
       "  <tbody>\n",
       "    <tr>\n",
       "      <th>0</th>\n",
       "      <td>11706</td>\n",
       "      <td>523</td>\n",
       "      <td>1</td>\n",
       "    </tr>\n",
       "    <tr>\n",
       "      <th>1</th>\n",
       "      <td>15445</td>\n",
       "      <td>523</td>\n",
       "      <td>1</td>\n",
       "    </tr>\n",
       "    <tr>\n",
       "      <th>2</th>\n",
       "      <td>5010</td>\n",
       "      <td>523</td>\n",
       "      <td>1</td>\n",
       "    </tr>\n",
       "    <tr>\n",
       "      <th>3</th>\n",
       "      <td>9626</td>\n",
       "      <td>523</td>\n",
       "      <td>1</td>\n",
       "    </tr>\n",
       "    <tr>\n",
       "      <th>4</th>\n",
       "      <td>9725</td>\n",
       "      <td>523</td>\n",
       "      <td>1</td>\n",
       "    </tr>\n",
       "  </tbody>\n",
       "</table>\n",
       "</div>"
      ],
      "text/plain": [
       "   docno  qid label\n",
       "0  11706  523     1\n",
       "1  15445  523     1\n",
       "2   5010  523     1\n",
       "3   9626  523     1\n",
       "4   9725  523     1"
      ]
     },
     "execution_count": 12,
     "metadata": {},
     "output_type": "execute_result"
    }
   ],
   "source": [
    "qrels_df.head()"
   ]
  },
  {
   "attachments": {},
   "cell_type": "markdown",
   "metadata": {},
   "source": [
    "## Réduire la taille des données : "
   ]
  },
  {
   "attachments": {},
   "cell_type": "markdown",
   "metadata": {},
   "source": [
    "### 1. Sample N docs : "
   ]
  },
  {
   "cell_type": "code",
   "execution_count": 13,
   "metadata": {},
   "outputs": [
    {
     "data": {
      "text/plain": [
       "(500,)"
      ]
     },
     "execution_count": 13,
     "metadata": {},
     "output_type": "execute_result"
    }
   ],
   "source": [
    "N_docs = 500\n",
    "indices = np.arange(len(docs_df))\n",
    "np.random.shuffle(indices)\n",
    "\n",
    "docs_df_reduce = docs_df.iloc[indices[0:N_docs]].reset_index(drop=True)\n",
    "doc_ids = np.unique(docs_df_reduce[\"docno\"])\n",
    "doc_ids.shape"
   ]
  },
  {
   "attachments": {},
   "cell_type": "markdown",
   "metadata": {},
   "source": [
    "Mettre à jour le qrel avec les nouveaux doc retenus : "
   ]
  },
  {
   "cell_type": "code",
   "execution_count": 14,
   "metadata": {},
   "outputs": [
    {
     "data": {
      "text/plain": [
       "(109,)"
      ]
     },
     "execution_count": 14,
     "metadata": {},
     "output_type": "execute_result"
    }
   ],
   "source": [
    "qrels_df_1 = qrels_df[qrels_df[\"docno\"].isin(doc_ids)]\n",
    "query_ids = np.unique(qrels_df_1[\"qid\"])\n",
    "query_ids.shape"
   ]
  },
  {
   "attachments": {},
   "cell_type": "markdown",
   "metadata": {},
   "source": [
    "Mettre à jour les queries avec celles qui existent dans qrels : "
   ]
  },
  {
   "cell_type": "code",
   "execution_count": 15,
   "metadata": {},
   "outputs": [
    {
     "data": {
      "text/plain": [
       "(109, 2)"
      ]
     },
     "execution_count": 15,
     "metadata": {},
     "output_type": "execute_result"
    }
   ],
   "source": [
    "queries_df_1 = queries_df[queries_df[\"qid\"].isin(query_ids)]\n",
    "queries_df_1.shape"
   ]
  },
  {
   "attachments": {},
   "cell_type": "markdown",
   "metadata": {},
   "source": [
    "### 2. Sample N queries : "
   ]
  },
  {
   "cell_type": "code",
   "execution_count": 16,
   "metadata": {},
   "outputs": [
    {
     "data": {
      "text/plain": [
       "(50,)"
      ]
     },
     "execution_count": 16,
     "metadata": {},
     "output_type": "execute_result"
    }
   ],
   "source": [
    "N_queries = 50\n",
    "indices = np.arange(len(queries_df_1))\n",
    "queries_df_reduce = queries_df_1.iloc[indices[0:N_queries]].reset_index(drop=True)\n",
    "query_ids = np.unique(queries_df_reduce[\"qid\"])\n",
    "query_ids.shape"
   ]
  },
  {
   "attachments": {},
   "cell_type": "markdown",
   "metadata": {},
   "source": [
    "Mettre à jour le qrel avec les nouvelles query retenues : "
   ]
  },
  {
   "cell_type": "code",
   "execution_count": 17,
   "metadata": {},
   "outputs": [
    {
     "data": {
      "text/plain": [
       "(52, 3)"
      ]
     },
     "execution_count": 17,
     "metadata": {},
     "output_type": "execute_result"
    }
   ],
   "source": [
    "qrels_df_2 = qrels_df_1[qrels_df_1[\"qid\"].isin(query_ids)]\n",
    "qrels_df_2.shape"
   ]
  },
  {
   "attachments": {},
   "cell_type": "markdown",
   "metadata": {},
   "source": [
    "### 3. Mettre à jour les df :"
   ]
  },
  {
   "cell_type": "code",
   "execution_count": 18,
   "metadata": {},
   "outputs": [],
   "source": [
    "docs_df_new = docs_df_reduce\n",
    "queries_df_new = queries_df_reduce\n",
    "qrels_df_new = qrels_df_2"
   ]
  },
  {
   "cell_type": "code",
   "execution_count": 19,
   "metadata": {},
   "outputs": [
    {
     "data": {
      "text/plain": [
       "((500, 2), (50, 2), (52, 3))"
      ]
     },
     "execution_count": 19,
     "metadata": {},
     "output_type": "execute_result"
    }
   ],
   "source": [
    "docs_df_new.shape, queries_df_new.shape, qrels_df_new.shape"
   ]
  },
  {
   "attachments": {},
   "cell_type": "markdown",
   "metadata": {},
   "source": [
    "### 4. Re-coder les id :"
   ]
  },
  {
   "cell_type": "code",
   "execution_count": 20,
   "metadata": {},
   "outputs": [],
   "source": [
    "doc_ids = np.unique(docs_df_new[\"docno\"])\n",
    "querie_ids = np.unique(queries_df_new[\"qid\"])\n",
    "\n",
    "encoder = LabelEncoder()\n",
    "encoder.fit(doc_ids)\n",
    "\n",
    "docs_df_new[\"docno\"] = encoder.transform(docs_df_new[\"docno\"])\n",
    "qrels_df_new[\"docno\"] =  encoder.transform(qrels_df_new[\"docno\"])\n",
    "\n",
    "encoder = LabelEncoder()\n",
    "encoder.fit(querie_ids)\n",
    "\n",
    "queries_df_new[\"qid\"] = encoder.transform(queries_df_new[\"qid\"])\n",
    "qrels_df_new[\"qid\"] =  encoder.transform(qrels_df_new[\"qid\"])"
   ]
  },
  {
   "cell_type": "code",
   "execution_count": 21,
   "metadata": {},
   "outputs": [
    {
     "data": {
      "text/plain": [
       "0      138\n",
       "1      169\n",
       "2      191\n",
       "3      142\n",
       "4      137\n",
       "      ... \n",
       "495    157\n",
       "496     99\n",
       "497    138\n",
       "498    177\n",
       "499    225\n",
       "Name: text, Length: 500, dtype: int64"
      ]
     },
     "execution_count": 21,
     "metadata": {},
     "output_type": "execute_result"
    }
   ],
   "source": [
    "Nds = docs_df_new[\"text\"].map(lambda t: re.sub('[' + re.escape(string.punctuation) + ']', ' ', t).split(\" \")).map(lambda l : list(filter((\"\").__ne__, l))).map(len)\n",
    "Nds"
   ]
  },
  {
   "cell_type": "code",
   "execution_count": 54,
   "metadata": {},
   "outputs": [],
   "source": [
    "true_relevance = np.zeros((len(queries_df_new), len(docs_df_new)))\n",
    "\n",
    "for _, row in qrels_df_new.iterrows():\n",
    "    qid = row['qid']\n",
    "    docno = row['docno']\n",
    "    \n",
    "    if row[\"label\"] != 0:\n",
    "        true_relevance[int(qid), int(docno)] = 1"
   ]
  },
  {
   "cell_type": "code",
   "execution_count": 55,
   "metadata": {},
   "outputs": [
    {
     "data": {
      "text/plain": [
       "(50, 500)"
      ]
     },
     "execution_count": 55,
     "metadata": {},
     "output_type": "execute_result"
    }
   ],
   "source": [
    "true_relevance.shape"
   ]
  },
  {
   "cell_type": "code",
   "execution_count": 56,
   "metadata": {},
   "outputs": [
    {
     "data": {
      "text/plain": [
       "1.0"
      ]
     },
     "execution_count": 56,
     "metadata": {},
     "output_type": "execute_result"
    }
   ],
   "source": [
    "true_relevance[qrels_df_new[\"qid\"].iloc[0], qrels_df_new[\"docno\"].iloc[0]]"
   ]
  },
  {
   "cell_type": "code",
   "execution_count": 57,
   "metadata": {},
   "outputs": [
    {
     "data": {
      "text/html": [
       "<div>\n",
       "<style scoped>\n",
       "    .dataframe tbody tr th:only-of-type {\n",
       "        vertical-align: middle;\n",
       "    }\n",
       "\n",
       "    .dataframe tbody tr th {\n",
       "        vertical-align: top;\n",
       "    }\n",
       "\n",
       "    .dataframe thead th {\n",
       "        text-align: right;\n",
       "    }\n",
       "</style>\n",
       "<table border=\"1\" class=\"dataframe\">\n",
       "  <thead>\n",
       "    <tr style=\"text-align: right;\">\n",
       "      <th></th>\n",
       "      <th>docno</th>\n",
       "      <th>qid</th>\n",
       "      <th>label</th>\n",
       "    </tr>\n",
       "  </thead>\n",
       "  <tbody>\n",
       "    <tr>\n",
       "      <th>30</th>\n",
       "      <td>36</td>\n",
       "      <td>23</td>\n",
       "      <td>1</td>\n",
       "    </tr>\n",
       "    <tr>\n",
       "      <th>269</th>\n",
       "      <td>82</td>\n",
       "      <td>33</td>\n",
       "      <td>1</td>\n",
       "    </tr>\n",
       "    <tr>\n",
       "      <th>537</th>\n",
       "      <td>268</td>\n",
       "      <td>20</td>\n",
       "      <td>1</td>\n",
       "    </tr>\n",
       "    <tr>\n",
       "      <th>899</th>\n",
       "      <td>381</td>\n",
       "      <td>4</td>\n",
       "      <td>1</td>\n",
       "    </tr>\n",
       "    <tr>\n",
       "      <th>1798</th>\n",
       "      <td>11</td>\n",
       "      <td>22</td>\n",
       "      <td>1</td>\n",
       "    </tr>\n",
       "    <tr>\n",
       "      <th>2426</th>\n",
       "      <td>106</td>\n",
       "      <td>11</td>\n",
       "      <td>1</td>\n",
       "    </tr>\n",
       "    <tr>\n",
       "      <th>2577</th>\n",
       "      <td>341</td>\n",
       "      <td>16</td>\n",
       "      <td>1</td>\n",
       "    </tr>\n",
       "    <tr>\n",
       "      <th>3055</th>\n",
       "      <td>11</td>\n",
       "      <td>48</td>\n",
       "      <td>1</td>\n",
       "    </tr>\n",
       "    <tr>\n",
       "      <th>3324</th>\n",
       "      <td>14</td>\n",
       "      <td>17</td>\n",
       "      <td>1</td>\n",
       "    </tr>\n",
       "    <tr>\n",
       "      <th>3745</th>\n",
       "      <td>79</td>\n",
       "      <td>8</td>\n",
       "      <td>1</td>\n",
       "    </tr>\n",
       "    <tr>\n",
       "      <th>3746</th>\n",
       "      <td>186</td>\n",
       "      <td>8</td>\n",
       "      <td>1</td>\n",
       "    </tr>\n",
       "    <tr>\n",
       "      <th>3772</th>\n",
       "      <td>47</td>\n",
       "      <td>32</td>\n",
       "      <td>1</td>\n",
       "    </tr>\n",
       "    <tr>\n",
       "      <th>4041</th>\n",
       "      <td>292</td>\n",
       "      <td>34</td>\n",
       "      <td>1</td>\n",
       "    </tr>\n",
       "    <tr>\n",
       "      <th>4850</th>\n",
       "      <td>106</td>\n",
       "      <td>29</td>\n",
       "      <td>1</td>\n",
       "    </tr>\n",
       "    <tr>\n",
       "      <th>5120</th>\n",
       "      <td>144</td>\n",
       "      <td>26</td>\n",
       "      <td>1</td>\n",
       "    </tr>\n",
       "    <tr>\n",
       "      <th>5329</th>\n",
       "      <td>112</td>\n",
       "      <td>30</td>\n",
       "      <td>1</td>\n",
       "    </tr>\n",
       "    <tr>\n",
       "      <th>5510</th>\n",
       "      <td>250</td>\n",
       "      <td>43</td>\n",
       "      <td>1</td>\n",
       "    </tr>\n",
       "    <tr>\n",
       "      <th>5807</th>\n",
       "      <td>106</td>\n",
       "      <td>35</td>\n",
       "      <td>1</td>\n",
       "    </tr>\n",
       "    <tr>\n",
       "      <th>5930</th>\n",
       "      <td>84</td>\n",
       "      <td>47</td>\n",
       "      <td>1</td>\n",
       "    </tr>\n",
       "    <tr>\n",
       "      <th>6465</th>\n",
       "      <td>105</td>\n",
       "      <td>25</td>\n",
       "      <td>1</td>\n",
       "    </tr>\n",
       "    <tr>\n",
       "      <th>6527</th>\n",
       "      <td>497</td>\n",
       "      <td>7</td>\n",
       "      <td>1</td>\n",
       "    </tr>\n",
       "    <tr>\n",
       "      <th>6647</th>\n",
       "      <td>339</td>\n",
       "      <td>41</td>\n",
       "      <td>1</td>\n",
       "    </tr>\n",
       "    <tr>\n",
       "      <th>6854</th>\n",
       "      <td>64</td>\n",
       "      <td>36</td>\n",
       "      <td>1</td>\n",
       "    </tr>\n",
       "    <tr>\n",
       "      <th>6917</th>\n",
       "      <td>42</td>\n",
       "      <td>44</td>\n",
       "      <td>1</td>\n",
       "    </tr>\n",
       "    <tr>\n",
       "      <th>7124</th>\n",
       "      <td>101</td>\n",
       "      <td>0</td>\n",
       "      <td>1</td>\n",
       "    </tr>\n",
       "    <tr>\n",
       "      <th>7214</th>\n",
       "      <td>91</td>\n",
       "      <td>28</td>\n",
       "      <td>1</td>\n",
       "    </tr>\n",
       "    <tr>\n",
       "      <th>7455</th>\n",
       "      <td>464</td>\n",
       "      <td>12</td>\n",
       "      <td>1</td>\n",
       "    </tr>\n",
       "    <tr>\n",
       "      <th>7517</th>\n",
       "      <td>16</td>\n",
       "      <td>14</td>\n",
       "      <td>1</td>\n",
       "    </tr>\n",
       "    <tr>\n",
       "      <th>7786</th>\n",
       "      <td>367</td>\n",
       "      <td>38</td>\n",
       "      <td>1</td>\n",
       "    </tr>\n",
       "    <tr>\n",
       "      <th>8235</th>\n",
       "      <td>0</td>\n",
       "      <td>49</td>\n",
       "      <td>1</td>\n",
       "    </tr>\n",
       "    <tr>\n",
       "      <th>8236</th>\n",
       "      <td>14</td>\n",
       "      <td>49</td>\n",
       "      <td>1</td>\n",
       "    </tr>\n",
       "    <tr>\n",
       "      <th>8714</th>\n",
       "      <td>16</td>\n",
       "      <td>37</td>\n",
       "      <td>1</td>\n",
       "    </tr>\n",
       "    <tr>\n",
       "      <th>9461</th>\n",
       "      <td>419</td>\n",
       "      <td>46</td>\n",
       "      <td>1</td>\n",
       "    </tr>\n",
       "    <tr>\n",
       "      <th>9579</th>\n",
       "      <td>44</td>\n",
       "      <td>15</td>\n",
       "      <td>1</td>\n",
       "    </tr>\n",
       "    <tr>\n",
       "      <th>10122</th>\n",
       "      <td>27</td>\n",
       "      <td>1</td>\n",
       "      <td>1</td>\n",
       "    </tr>\n",
       "    <tr>\n",
       "      <th>10269</th>\n",
       "      <td>28</td>\n",
       "      <td>18</td>\n",
       "      <td>1</td>\n",
       "    </tr>\n",
       "    <tr>\n",
       "      <th>10567</th>\n",
       "      <td>380</td>\n",
       "      <td>31</td>\n",
       "      <td>1</td>\n",
       "    </tr>\n",
       "    <tr>\n",
       "      <th>10718</th>\n",
       "      <td>106</td>\n",
       "      <td>42</td>\n",
       "      <td>1</td>\n",
       "    </tr>\n",
       "    <tr>\n",
       "      <th>10868</th>\n",
       "      <td>464</td>\n",
       "      <td>10</td>\n",
       "      <td>1</td>\n",
       "    </tr>\n",
       "    <tr>\n",
       "      <th>11226</th>\n",
       "      <td>464</td>\n",
       "      <td>9</td>\n",
       "      <td>1</td>\n",
       "    </tr>\n",
       "    <tr>\n",
       "      <th>11619</th>\n",
       "      <td>327</td>\n",
       "      <td>21</td>\n",
       "      <td>1</td>\n",
       "    </tr>\n",
       "    <tr>\n",
       "      <th>11648</th>\n",
       "      <td>210</td>\n",
       "      <td>40</td>\n",
       "      <td>1</td>\n",
       "    </tr>\n",
       "    <tr>\n",
       "      <th>11676</th>\n",
       "      <td>298</td>\n",
       "      <td>19</td>\n",
       "      <td>1</td>\n",
       "    </tr>\n",
       "    <tr>\n",
       "      <th>11887</th>\n",
       "      <td>88</td>\n",
       "      <td>2</td>\n",
       "      <td>1</td>\n",
       "    </tr>\n",
       "    <tr>\n",
       "      <th>12159</th>\n",
       "      <td>11</td>\n",
       "      <td>5</td>\n",
       "      <td>1</td>\n",
       "    </tr>\n",
       "    <tr>\n",
       "      <th>12279</th>\n",
       "      <td>106</td>\n",
       "      <td>3</td>\n",
       "      <td>1</td>\n",
       "    </tr>\n",
       "    <tr>\n",
       "      <th>12728</th>\n",
       "      <td>31</td>\n",
       "      <td>39</td>\n",
       "      <td>1</td>\n",
       "    </tr>\n",
       "    <tr>\n",
       "      <th>12787</th>\n",
       "      <td>0</td>\n",
       "      <td>13</td>\n",
       "      <td>1</td>\n",
       "    </tr>\n",
       "    <tr>\n",
       "      <th>12967</th>\n",
       "      <td>22</td>\n",
       "      <td>27</td>\n",
       "      <td>1</td>\n",
       "    </tr>\n",
       "    <tr>\n",
       "      <th>13234</th>\n",
       "      <td>64</td>\n",
       "      <td>24</td>\n",
       "      <td>1</td>\n",
       "    </tr>\n",
       "    <tr>\n",
       "      <th>13413</th>\n",
       "      <td>46</td>\n",
       "      <td>6</td>\n",
       "      <td>1</td>\n",
       "    </tr>\n",
       "    <tr>\n",
       "      <th>13590</th>\n",
       "      <td>247</td>\n",
       "      <td>45</td>\n",
       "      <td>1</td>\n",
       "    </tr>\n",
       "  </tbody>\n",
       "</table>\n",
       "</div>"
      ],
      "text/plain": [
       "       docno  qid label\n",
       "30        36   23     1\n",
       "269       82   33     1\n",
       "537      268   20     1\n",
       "899      381    4     1\n",
       "1798      11   22     1\n",
       "2426     106   11     1\n",
       "2577     341   16     1\n",
       "3055      11   48     1\n",
       "3324      14   17     1\n",
       "3745      79    8     1\n",
       "3746     186    8     1\n",
       "3772      47   32     1\n",
       "4041     292   34     1\n",
       "4850     106   29     1\n",
       "5120     144   26     1\n",
       "5329     112   30     1\n",
       "5510     250   43     1\n",
       "5807     106   35     1\n",
       "5930      84   47     1\n",
       "6465     105   25     1\n",
       "6527     497    7     1\n",
       "6647     339   41     1\n",
       "6854      64   36     1\n",
       "6917      42   44     1\n",
       "7124     101    0     1\n",
       "7214      91   28     1\n",
       "7455     464   12     1\n",
       "7517      16   14     1\n",
       "7786     367   38     1\n",
       "8235       0   49     1\n",
       "8236      14   49     1\n",
       "8714      16   37     1\n",
       "9461     419   46     1\n",
       "9579      44   15     1\n",
       "10122     27    1     1\n",
       "10269     28   18     1\n",
       "10567    380   31     1\n",
       "10718    106   42     1\n",
       "10868    464   10     1\n",
       "11226    464    9     1\n",
       "11619    327   21     1\n",
       "11648    210   40     1\n",
       "11676    298   19     1\n",
       "11887     88    2     1\n",
       "12159     11    5     1\n",
       "12279    106    3     1\n",
       "12728     31   39     1\n",
       "12787      0   13     1\n",
       "12967     22   27     1\n",
       "13234     64   24     1\n",
       "13413     46    6     1\n",
       "13590    247   45     1"
      ]
     },
     "execution_count": 57,
     "metadata": {},
     "output_type": "execute_result"
    }
   ],
   "source": [
    "qrels_df_new"
   ]
  },
  {
   "cell_type": "code",
   "execution_count": 27,
   "metadata": {},
   "outputs": [],
   "source": [
    "sw = stopwords.words('english')"
   ]
  },
  {
   "cell_type": "code",
   "execution_count": 28,
   "metadata": {},
   "outputs": [],
   "source": [
    "vectorizer = CountVectorizer(stop_words=sw, max_features=5000)\n",
    "vectors = vectorizer.fit_transform(docs_df_new[\"text\"])\n",
    "queries = vectorizer.transform(queries_df_new[\"query\"])"
   ]
  },
  {
   "cell_type": "code",
   "execution_count": 29,
   "metadata": {},
   "outputs": [
    {
     "data": {
      "text/plain": [
       "((500, 5000), (50, 5000))"
      ]
     },
     "execution_count": 29,
     "metadata": {},
     "output_type": "execute_result"
    }
   ],
   "source": [
    "vectors.shape, queries.shape"
   ]
  },
  {
   "cell_type": "code",
   "execution_count": 30,
   "metadata": {},
   "outputs": [],
   "source": [
    "p_vectors = np.asarray(vectors.toarray())\n",
    "p_vec_sum = p_vectors.sum(axis=1)[:, np.newaxis]\n",
    "p_vectors = p_vectors / np.where(p_vec_sum == 0, 1., p_vec_sum)\n",
    "vectors = p_vectors"
   ]
  },
  {
   "cell_type": "code",
   "execution_count": 31,
   "metadata": {},
   "outputs": [],
   "source": [
    "p_queries = np.asarray(queries.toarray())\n",
    "p_quer_sum = p_queries.sum(axis=1)[:, np.newaxis]\n",
    "p_queries = p_queries / np.where(p_quer_sum == 0, 1., p_quer_sum)\n",
    "queries = p_queries"
   ]
  },
  {
   "cell_type": "code",
   "execution_count": 32,
   "metadata": {},
   "outputs": [
    {
     "data": {
      "text/plain": [
       "0"
      ]
     },
     "execution_count": 32,
     "metadata": {},
     "output_type": "execute_result"
    }
   ],
   "source": [
    "gc.collect()"
   ]
  },
  {
   "attachments": {},
   "cell_type": "markdown",
   "metadata": {},
   "source": [
    "## Varier n_iter:"
   ]
  },
  {
   "cell_type": "code",
   "execution_count": 33,
   "metadata": {},
   "outputs": [
    {
     "name": "stderr",
     "output_type": "stream",
     "text": [
      "Markov chain N° 1: 100%|██████████| 1/1 [00:44<00:00, 44.20s/it]\n",
      "Markov chain N° 1: 100%|██████████| 11/11 [04:59<00:00, 27.27s/it]\n",
      "Markov chain N° 1: 100%|██████████| 21/21 [09:22<00:00, 26.76s/it]\n",
      "Markov chain N° 1: 100%|██████████| 31/31 [14:35<00:00, 28.24s/it]\n",
      "Markov chain N° 1: 100%|██████████| 41/41 [14:11<00:00, 20.78s/it]\n",
      "Markov chain N° 1: 100%|██████████| 51/51 [18:04<00:00, 21.27s/it]\n",
      "Markov chain N° 1: 100%|██████████| 61/61 [20:05<00:00, 19.76s/it]\n",
      "Markov chain N° 1: 100%|██████████| 71/71 [13:10<00:00, 11.13s/it]\n",
      "Markov chain N° 1: 100%|██████████| 81/81 [15:12<00:00, 11.27s/it]\n"
     ]
    }
   ],
   "source": [
    "n_iter_lda_ap = []\n",
    "\n",
    "for n_iter in range(1, 82, 10):\n",
    "    np.random.seed(0)\n",
    "    lda = LdaRetrieval(n_topics=100, mu=1000, alpha=None, beta=0.01, n_iter=n_iter, nb_mc=1, lmbda=0.7)\n",
    "    lda.fit(vectors, Nds=Nds)\n",
    "    \n",
    "    lda_pred = lda.predict(queries)\n",
    "    n_iter_lda_ap.append(calculate_average_precision(true_relevance, np.array([lda_pred]), models_names=[\"QL\"], return_df=False)[0])\n",
    "    gc.collect()"
   ]
  },
  {
   "cell_type": "code",
   "execution_count": 68,
   "metadata": {},
   "outputs": [
    {
     "name": "stdout",
     "output_type": "stream",
     "text": [
      "[0.18052316, 0.19951026, 0.20923642, 0.24287951, 0.24250302, 0.24602982, 0.23990697, 0.24290278, 0.24010254]\n"
     ]
    }
   ],
   "source": [
    "print(n_iter_lda_ap)"
   ]
  },
  {
   "cell_type": "code",
   "execution_count": 69,
   "metadata": {},
   "outputs": [
    {
     "data": {
      "image/png": "[encoded data removed]",
      "text/plain": [
       "<Figure size 432x288 with 1 Axes>"
      ]
     },
     "metadata": {
      "needs_background": "light"
     },
     "output_type": "display_data"
    }
   ],
   "source": [
    "iterations = [1, 11, 21, 31, 41, 51, 61, 71, 81]\n",
    "average_precision = n_iter_lda_ap\n",
    "\n",
    "fig, ax = plt.subplots()\n",
    "ax.set_title(\"Courbe de résultat avec 500 documents\")\n",
    "ax.set_xlabel(\"Iterations\")\n",
    "ax.set_ylabel(\"Average Precision\")\n",
    "ax.grid(True)\n",
    "ax.set_facecolor('lightgray')\n",
    "ax.set_axisbelow(True)\n",
    "\n",
    "ax.plot(iterations, average_precision, '-o', color='blue')\n",
    "\n",
    "for i in range(len(iterations)):\n",
    "    ax.plot(iterations[i], average_precision[i], 's', markersize=6, color='black')\n",
    "\n",
    "plt.show()"
   ]
  }
 ],
 "metadata": {
  "kernelspec": {
   "display_name": "base",
   "language": "python",
   "name": "python3"
  },
  "language_info": {
   "codemirror_mode": {
    "name": "ipython",
    "version": 3
   },
   "file_extension": ".py",
   "mimetype": "text/x-python",
   "name": "python",
   "nbconvert_exporter": "python",
   "pygments_lexer": "ipython3",
   "version": "3.9.12"
  },
  "orig_nbformat": 4
 },
 "nbformat": 4,
 "nbformat_minor": 2
}

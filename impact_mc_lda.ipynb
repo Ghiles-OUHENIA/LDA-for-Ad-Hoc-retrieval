{
 "cells": [
  {
   "cell_type": "code",
   "execution_count": 1,
   "metadata": {},
   "outputs": [],
   "source": [
    "import sys\n",
    "sys.path.append('./src')"
   ]
  },
  {
   "cell_type": "code",
   "execution_count": 2,
   "metadata": {},
   "outputs": [],
   "source": [
    "from retrieval_system.likelihood import LikelihoodRetrieval\n",
    "from retrieval_system.clustering import ClusterBasedRetrieval\n",
    "from retrieval_system.lda import LdaRetrieval\n",
    "\n",
    "from evaluation.metrics import calculate_average_precision"
   ]
  },
  {
   "cell_type": "code",
   "execution_count": 3,
   "metadata": {},
   "outputs": [],
   "source": [
    "import re\n",
    "import string\n",
    "import gc\n",
    "from tqdm import tqdm\n",
    "\n",
    "import pandas as pd\n",
    "import numpy as np\n",
    "import matplotlib.pyplot as plt\n",
    "\n",
    "from sklearn.feature_extraction.text import CountVectorizer\n",
    "from sklearn.preprocessing import LabelEncoder\n",
    "from nltk.corpus import stopwords\n",
    "\n",
    "import warnings\n",
    "warnings.filterwarnings('ignore')\n",
    "\n",
    "gc.enable()"
   ]
  },
  {
   "cell_type": "code",
   "execution_count": 4,
   "metadata": {},
   "outputs": [],
   "source": [
    "import ir_datasets\n",
    "dataset = ir_datasets.load(\"beir/scidocs\")"
   ]
  },
  {
   "cell_type": "code",
   "execution_count": 5,
   "metadata": {},
   "outputs": [],
   "source": [
    "docs_df = pd.DataFrame(columns=['text', 'docno'])\n",
    "docs_data = []\n",
    "\n",
    "for doc in dataset.docs_iter():\n",
    "    docs_data.append({'text': doc.text, 'docno': doc.doc_id})\n",
    "\n",
    "docs_df = pd.concat([docs_df, pd.DataFrame(docs_data)], ignore_index=True)"
   ]
  },
  {
   "cell_type": "code",
   "execution_count": 6,
   "metadata": {},
   "outputs": [],
   "source": [
    "queries_df = pd.DataFrame(columns=['query', 'qid'])\n",
    "queries_data = []\n",
    "\n",
    "for query in dataset.queries_iter():\n",
    "    queries_data.append({'query': query.text, 'qid': query.query_id})\n",
    "\n",
    "queries_df = pd.concat([queries_df, pd.DataFrame(queries_data)], ignore_index=True)"
   ]
  },
  {
   "cell_type": "code",
   "execution_count": 7,
   "metadata": {},
   "outputs": [],
   "source": [
    "qrels_df = pd.DataFrame(columns=['docno', 'qid', 'label'])\n",
    "qrels_data = []\n",
    "\n",
    "for qrel in dataset.qrels_iter():\n",
    "    qrels_data.append({'docno': qrel.doc_id, 'qid': qrel.query_id, 'label': qrel.relevance})\n",
    "\n",
    "qrels_df = pd.concat([qrels_df, pd.DataFrame(qrels_data)], ignore_index=True)\n",
    "qrels_df = qrels_df[qrels_df[\"label\"] != 0]"
   ]
  },
  {
   "cell_type": "code",
   "execution_count": 8,
   "metadata": {},
   "outputs": [],
   "source": [
    "doc_ids = np.unique(docs_df[\"docno\"])\n",
    "querie_ids = np.unique(queries_df[\"qid\"])\n",
    "\n",
    "encoder = LabelEncoder()\n",
    "encoder.fit(doc_ids)\n",
    "\n",
    "docs_df[\"docno\"] = encoder.transform(docs_df[\"docno\"])\n",
    "qrels_df[\"docno\"] =  encoder.transform(qrels_df[\"docno\"])\n",
    "\n",
    "encoder = LabelEncoder()\n",
    "encoder.fit(querie_ids)\n",
    "\n",
    "queries_df[\"qid\"] = encoder.transform(queries_df[\"qid\"])\n",
    "qrels_df[\"qid\"] =  encoder.transform(qrels_df[\"qid\"])"
   ]
  },
  {
   "cell_type": "code",
   "execution_count": 9,
   "metadata": {},
   "outputs": [
    {
     "data": {
      "text/plain": [
       "0        11706\n",
       "1        15445\n",
       "2         5010\n",
       "3         9626\n",
       "4         9725\n",
       "         ...  \n",
       "25652    16845\n",
       "25653    10603\n",
       "25654    15466\n",
       "25655     5027\n",
       "25656    23073\n",
       "Name: docno, Length: 25657, dtype: int64"
      ]
     },
     "execution_count": 9,
     "metadata": {},
     "output_type": "execute_result"
    }
   ],
   "source": [
    "docs_df[\"docno\"]"
   ]
  },
  {
   "cell_type": "code",
   "execution_count": 10,
   "metadata": {},
   "outputs": [
    {
     "data": {
      "text/html": [
       "<div>\n",
       "<style scoped>\n",
       "    .dataframe tbody tr th:only-of-type {\n",
       "        vertical-align: middle;\n",
       "    }\n",
       "\n",
       "    .dataframe tbody tr th {\n",
       "        vertical-align: top;\n",
       "    }\n",
       "\n",
       "    .dataframe thead th {\n",
       "        text-align: right;\n",
       "    }\n",
       "</style>\n",
       "<table border=\"1\" class=\"dataframe\">\n",
       "  <thead>\n",
       "    <tr style=\"text-align: right;\">\n",
       "      <th></th>\n",
       "      <th>text</th>\n",
       "      <th>docno</th>\n",
       "    </tr>\n",
       "  </thead>\n",
       "  <tbody>\n",
       "    <tr>\n",
       "      <th>0</th>\n",
       "      <td>An evolutionary recurrent network which automa...</td>\n",
       "      <td>11706</td>\n",
       "    </tr>\n",
       "    <tr>\n",
       "      <th>1</th>\n",
       "      <td>Dynamic economic dispatch (DED) is one of the ...</td>\n",
       "      <td>15445</td>\n",
       "    </tr>\n",
       "    <tr>\n",
       "      <th>2</th>\n",
       "      <td>It's not surprisingly when entering this site ...</td>\n",
       "      <td>5010</td>\n",
       "    </tr>\n",
       "    <tr>\n",
       "      <th>3</th>\n",
       "      <td>In this paper, we introduce a new parameter, c...</td>\n",
       "      <td>9626</td>\n",
       "    </tr>\n",
       "    <tr>\n",
       "      <th>4</th>\n",
       "      <td>This paper proposes a recurrent fuzzy neural n...</td>\n",
       "      <td>9725</td>\n",
       "    </tr>\n",
       "  </tbody>\n",
       "</table>\n",
       "</div>"
      ],
      "text/plain": [
       "                                                text  docno\n",
       "0  An evolutionary recurrent network which automa...  11706\n",
       "1  Dynamic economic dispatch (DED) is one of the ...  15445\n",
       "2  It's not surprisingly when entering this site ...   5010\n",
       "3  In this paper, we introduce a new parameter, c...   9626\n",
       "4  This paper proposes a recurrent fuzzy neural n...   9725"
      ]
     },
     "execution_count": 10,
     "metadata": {},
     "output_type": "execute_result"
    }
   ],
   "source": [
    "docs_df.head()"
   ]
  },
  {
   "cell_type": "code",
   "execution_count": 11,
   "metadata": {},
   "outputs": [
    {
     "data": {
      "text/html": [
       "<div>\n",
       "<style scoped>\n",
       "    .dataframe tbody tr th:only-of-type {\n",
       "        vertical-align: middle;\n",
       "    }\n",
       "\n",
       "    .dataframe tbody tr th {\n",
       "        vertical-align: top;\n",
       "    }\n",
       "\n",
       "    .dataframe thead th {\n",
       "        text-align: right;\n",
       "    }\n",
       "</style>\n",
       "<table border=\"1\" class=\"dataframe\">\n",
       "  <thead>\n",
       "    <tr style=\"text-align: right;\">\n",
       "      <th></th>\n",
       "      <th>query</th>\n",
       "      <th>qid</th>\n",
       "    </tr>\n",
       "  </thead>\n",
       "  <tbody>\n",
       "    <tr>\n",
       "      <th>0</th>\n",
       "      <td>A Direct Search Method to solve Economic Dispa...</td>\n",
       "      <td>523</td>\n",
       "    </tr>\n",
       "    <tr>\n",
       "      <th>1</th>\n",
       "      <td>Bearish-Bullish Sentiment Analysis on Financia...</td>\n",
       "      <td>554</td>\n",
       "    </tr>\n",
       "    <tr>\n",
       "      <th>2</th>\n",
       "      <td>Predicting defects in SAP Java code: An experi...</td>\n",
       "      <td>617</td>\n",
       "    </tr>\n",
       "    <tr>\n",
       "      <th>3</th>\n",
       "      <td>Active-Metric Learning for Classification of R...</td>\n",
       "      <td>262</td>\n",
       "    </tr>\n",
       "    <tr>\n",
       "      <th>4</th>\n",
       "      <td>Ad Hoc Retrieval Experiments Using WordNet and...</td>\n",
       "      <td>29</td>\n",
       "    </tr>\n",
       "  </tbody>\n",
       "</table>\n",
       "</div>"
      ],
      "text/plain": [
       "                                               query  qid\n",
       "0  A Direct Search Method to solve Economic Dispa...  523\n",
       "1  Bearish-Bullish Sentiment Analysis on Financia...  554\n",
       "2  Predicting defects in SAP Java code: An experi...  617\n",
       "3  Active-Metric Learning for Classification of R...  262\n",
       "4  Ad Hoc Retrieval Experiments Using WordNet and...   29"
      ]
     },
     "execution_count": 11,
     "metadata": {},
     "output_type": "execute_result"
    }
   ],
   "source": [
    "queries_df.head()"
   ]
  },
  {
   "cell_type": "code",
   "execution_count": 12,
   "metadata": {},
   "outputs": [
    {
     "data": {
      "text/html": [
       "<div>\n",
       "<style scoped>\n",
       "    .dataframe tbody tr th:only-of-type {\n",
       "        vertical-align: middle;\n",
       "    }\n",
       "\n",
       "    .dataframe tbody tr th {\n",
       "        vertical-align: top;\n",
       "    }\n",
       "\n",
       "    .dataframe thead th {\n",
       "        text-align: right;\n",
       "    }\n",
       "</style>\n",
       "<table border=\"1\" class=\"dataframe\">\n",
       "  <thead>\n",
       "    <tr style=\"text-align: right;\">\n",
       "      <th></th>\n",
       "      <th>docno</th>\n",
       "      <th>qid</th>\n",
       "      <th>label</th>\n",
       "    </tr>\n",
       "  </thead>\n",
       "  <tbody>\n",
       "    <tr>\n",
       "      <th>0</th>\n",
       "      <td>11706</td>\n",
       "      <td>523</td>\n",
       "      <td>1</td>\n",
       "    </tr>\n",
       "    <tr>\n",
       "      <th>1</th>\n",
       "      <td>15445</td>\n",
       "      <td>523</td>\n",
       "      <td>1</td>\n",
       "    </tr>\n",
       "    <tr>\n",
       "      <th>2</th>\n",
       "      <td>5010</td>\n",
       "      <td>523</td>\n",
       "      <td>1</td>\n",
       "    </tr>\n",
       "    <tr>\n",
       "      <th>3</th>\n",
       "      <td>9626</td>\n",
       "      <td>523</td>\n",
       "      <td>1</td>\n",
       "    </tr>\n",
       "    <tr>\n",
       "      <th>4</th>\n",
       "      <td>9725</td>\n",
       "      <td>523</td>\n",
       "      <td>1</td>\n",
       "    </tr>\n",
       "  </tbody>\n",
       "</table>\n",
       "</div>"
      ],
      "text/plain": [
       "   docno  qid label\n",
       "0  11706  523     1\n",
       "1  15445  523     1\n",
       "2   5010  523     1\n",
       "3   9626  523     1\n",
       "4   9725  523     1"
      ]
     },
     "execution_count": 12,
     "metadata": {},
     "output_type": "execute_result"
    }
   ],
   "source": [
    "qrels_df.head()"
   ]
  },
  {
   "attachments": {},
   "cell_type": "markdown",
   "metadata": {},
   "source": [
    "## Réduire la taille des données : "
   ]
  },
  {
   "attachments": {},
   "cell_type": "markdown",
   "metadata": {},
   "source": [
    "### 1. Sample N docs : "
   ]
  },
  {
   "cell_type": "code",
   "execution_count": 13,
   "metadata": {},
   "outputs": [
    {
     "data": {
      "text/plain": [
       "(10,)"
      ]
     },
     "execution_count": 13,
     "metadata": {},
     "output_type": "execute_result"
    }
   ],
   "source": [
    "N_docs = 200\n",
    "indices = np.arange(len(docs_df))\n",
    "np.random.shuffle(indices)\n",
    "\n",
    "docs_df_reduce = docs_df.iloc[indices[0:N_docs]].reset_index(drop=True)\n",
    "doc_ids = np.unique(docs_df_reduce[\"docno\"])\n",
    "doc_ids.shape"
   ]
  },
  {
   "attachments": {},
   "cell_type": "markdown",
   "metadata": {},
   "source": [
    "Mettre à jour le qrel avec les nouveaux doc retenus : "
   ]
  },
  {
   "cell_type": "code",
   "execution_count": 14,
   "metadata": {},
   "outputs": [
    {
     "data": {
      "text/plain": [
       "(1,)"
      ]
     },
     "execution_count": 14,
     "metadata": {},
     "output_type": "execute_result"
    }
   ],
   "source": [
    "qrels_df_1 = qrels_df[qrels_df[\"docno\"].isin(doc_ids)]\n",
    "query_ids = np.unique(qrels_df_1[\"qid\"])\n",
    "query_ids.shape"
   ]
  },
  {
   "attachments": {},
   "cell_type": "markdown",
   "metadata": {},
   "source": [
    "Mettre à jour les queries avec celles qui existent dans qrels : "
   ]
  },
  {
   "cell_type": "code",
   "execution_count": 15,
   "metadata": {},
   "outputs": [
    {
     "data": {
      "text/plain": [
       "(1, 2)"
      ]
     },
     "execution_count": 15,
     "metadata": {},
     "output_type": "execute_result"
    }
   ],
   "source": [
    "queries_df_1 = queries_df[queries_df[\"qid\"].isin(query_ids)]\n",
    "queries_df_1.shape"
   ]
  },
  {
   "attachments": {},
   "cell_type": "markdown",
   "metadata": {},
   "source": [
    "### 2. Sample N queries : "
   ]
  },
  {
   "cell_type": "code",
   "execution_count": 16,
   "metadata": {},
   "outputs": [
    {
     "data": {
      "text/plain": [
       "(1,)"
      ]
     },
     "execution_count": 16,
     "metadata": {},
     "output_type": "execute_result"
    }
   ],
   "source": [
    "N_queries = 50\n",
    "indices = np.arange(len(queries_df_1))\n",
    "queries_df_reduce = queries_df_1.iloc[indices[0:N_queries]].reset_index(drop=True)\n",
    "query_ids = np.unique(queries_df_reduce[\"qid\"])\n",
    "query_ids.shape"
   ]
  },
  {
   "attachments": {},
   "cell_type": "markdown",
   "metadata": {},
   "source": [
    "Mettre à jour le qrel avec les nouvelles query retenues : "
   ]
  },
  {
   "cell_type": "code",
   "execution_count": 17,
   "metadata": {},
   "outputs": [
    {
     "data": {
      "text/plain": [
       "(1, 3)"
      ]
     },
     "execution_count": 17,
     "metadata": {},
     "output_type": "execute_result"
    }
   ],
   "source": [
    "qrels_df_2 = qrels_df_1[qrels_df_1[\"qid\"].isin(query_ids)]\n",
    "qrels_df_2.shape"
   ]
  },
  {
   "attachments": {},
   "cell_type": "markdown",
   "metadata": {},
   "source": [
    "### 3. Mettre à jour les df :"
   ]
  },
  {
   "cell_type": "code",
   "execution_count": 18,
   "metadata": {},
   "outputs": [],
   "source": [
    "docs_df_new = docs_df_reduce\n",
    "queries_df_new = queries_df_reduce\n",
    "qrels_df_new = qrels_df_2"
   ]
  },
  {
   "cell_type": "code",
   "execution_count": 19,
   "metadata": {},
   "outputs": [
    {
     "data": {
      "text/plain": [
       "((10, 2), (1, 2), (1, 3))"
      ]
     },
     "execution_count": 19,
     "metadata": {},
     "output_type": "execute_result"
    }
   ],
   "source": [
    "docs_df_new.shape, queries_df_new.shape, qrels_df_new.shape"
   ]
  },
  {
   "attachments": {},
   "cell_type": "markdown",
   "metadata": {},
   "source": [
    "### 4. Re-coder les id :"
   ]
  },
  {
   "cell_type": "code",
   "execution_count": 20,
   "metadata": {},
   "outputs": [],
   "source": [
    "doc_ids = np.unique(docs_df_new[\"docno\"])\n",
    "querie_ids = np.unique(queries_df_new[\"qid\"])\n",
    "\n",
    "encoder = LabelEncoder()\n",
    "encoder.fit(doc_ids)\n",
    "\n",
    "docs_df_new[\"docno\"] = encoder.transform(docs_df_new[\"docno\"])\n",
    "qrels_df_new[\"docno\"] =  encoder.transform(qrels_df_new[\"docno\"])\n",
    "\n",
    "encoder = LabelEncoder()\n",
    "encoder.fit(querie_ids)\n",
    "\n",
    "queries_df_new[\"qid\"] = encoder.transform(queries_df_new[\"qid\"])\n",
    "qrels_df_new[\"qid\"] =  encoder.transform(qrels_df_new[\"qid\"])"
   ]
  },
  {
   "cell_type": "code",
   "execution_count": 21,
   "metadata": {},
   "outputs": [
    {
     "data": {
      "text/plain": [
       "0    146\n",
       "1      0\n",
       "2    143\n",
       "3    110\n",
       "4    113\n",
       "5    112\n",
       "6    121\n",
       "7    120\n",
       "8     54\n",
       "9     85\n",
       "Name: text, dtype: int64"
      ]
     },
     "execution_count": 21,
     "metadata": {},
     "output_type": "execute_result"
    }
   ],
   "source": [
    "Nds = docs_df_new[\"text\"].map(lambda t: re.sub('[' + re.escape(string.punctuation) + ']', ' ', t).split(\" \")).map(lambda l : list(filter((\"\").__ne__, l))).map(len)\n",
    "Nds"
   ]
  },
  {
   "cell_type": "code",
   "execution_count": 22,
   "metadata": {},
   "outputs": [],
   "source": [
    "true_relevance = np.zeros((len(queries_df_new), len(docs_df_new)))\n",
    "\n",
    "for _, row in qrels_df_new.iterrows():\n",
    "    qid = row['qid']\n",
    "    docno = row['docno']\n",
    "    \n",
    "    if row[\"label\"] != 0:\n",
    "        true_relevance[int(qid), int(docno)] = 1"
   ]
  },
  {
   "cell_type": "code",
   "execution_count": 23,
   "metadata": {},
   "outputs": [],
   "source": [
    "for i in range(len(queries_df_new)):\n",
    "    a = np.random.rand() / 5\n",
    "    indices = np.random.choice(len(docs_df_new), int(len(docs_df_new) * a), replace=False)\n",
    "    true_relevance[i, indices] = 1"
   ]
  },
  {
   "cell_type": "code",
   "execution_count": 24,
   "metadata": {},
   "outputs": [
    {
     "data": {
      "text/plain": [
       "(1, 10)"
      ]
     },
     "execution_count": 24,
     "metadata": {},
     "output_type": "execute_result"
    }
   ],
   "source": [
    "true_relevance.shape"
   ]
  },
  {
   "cell_type": "code",
   "execution_count": 25,
   "metadata": {},
   "outputs": [
    {
     "data": {
      "text/plain": [
       "1.0"
      ]
     },
     "execution_count": 25,
     "metadata": {},
     "output_type": "execute_result"
    }
   ],
   "source": [
    "true_relevance[qrels_df_new[\"qid\"].iloc[0], qrels_df_new[\"docno\"].iloc[0]]"
   ]
  },
  {
   "cell_type": "code",
   "execution_count": 26,
   "metadata": {},
   "outputs": [
    {
     "data": {
      "text/html": [
       "<div>\n",
       "<style scoped>\n",
       "    .dataframe tbody tr th:only-of-type {\n",
       "        vertical-align: middle;\n",
       "    }\n",
       "\n",
       "    .dataframe tbody tr th {\n",
       "        vertical-align: top;\n",
       "    }\n",
       "\n",
       "    .dataframe thead th {\n",
       "        text-align: right;\n",
       "    }\n",
       "</style>\n",
       "<table border=\"1\" class=\"dataframe\">\n",
       "  <thead>\n",
       "    <tr style=\"text-align: right;\">\n",
       "      <th></th>\n",
       "      <th>docno</th>\n",
       "      <th>qid</th>\n",
       "      <th>label</th>\n",
       "    </tr>\n",
       "  </thead>\n",
       "  <tbody>\n",
       "    <tr>\n",
       "      <th>541</th>\n",
       "      <td>7</td>\n",
       "      <td>0</td>\n",
       "      <td>1</td>\n",
       "    </tr>\n",
       "  </tbody>\n",
       "</table>\n",
       "</div>"
      ],
      "text/plain": [
       "     docno  qid label\n",
       "541      7    0     1"
      ]
     },
     "execution_count": 26,
     "metadata": {},
     "output_type": "execute_result"
    }
   ],
   "source": [
    "qrels_df_new"
   ]
  },
  {
   "cell_type": "code",
   "execution_count": 27,
   "metadata": {},
   "outputs": [],
   "source": [
    "sw = stopwords.words('english')"
   ]
  },
  {
   "cell_type": "code",
   "execution_count": 28,
   "metadata": {},
   "outputs": [],
   "source": [
    "vectorizer = CountVectorizer(stop_words=sw, max_features=5000)\n",
    "vectors = vectorizer.fit_transform(docs_df_new[\"text\"])\n",
    "queries = vectorizer.transform(queries_df_new[\"query\"])"
   ]
  },
  {
   "cell_type": "code",
   "execution_count": 29,
   "metadata": {},
   "outputs": [
    {
     "data": {
      "text/plain": [
       "((10, 440), (1, 440))"
      ]
     },
     "execution_count": 29,
     "metadata": {},
     "output_type": "execute_result"
    }
   ],
   "source": [
    "vectors.shape, queries.shape"
   ]
  },
  {
   "cell_type": "code",
   "execution_count": 30,
   "metadata": {},
   "outputs": [],
   "source": [
    "p_vectors = np.asarray(vectors.toarray())\n",
    "p_vec_sum = p_vectors.sum(axis=1)[:, np.newaxis]\n",
    "p_vectors = p_vectors / np.where(p_vec_sum == 0, 1., p_vec_sum)\n",
    "vectors = p_vectors"
   ]
  },
  {
   "cell_type": "code",
   "execution_count": 31,
   "metadata": {},
   "outputs": [],
   "source": [
    "p_queries = np.asarray(queries.toarray())\n",
    "p_quer_sum = p_queries.sum(axis=1)[:, np.newaxis]\n",
    "p_queries = p_queries / np.where(p_quer_sum == 0, 1., p_quer_sum)\n",
    "queries = p_queries"
   ]
  },
  {
   "cell_type": "code",
   "execution_count": 32,
   "metadata": {},
   "outputs": [
    {
     "data": {
      "text/plain": [
       "2"
      ]
     },
     "execution_count": 32,
     "metadata": {},
     "output_type": "execute_result"
    }
   ],
   "source": [
    "gc.collect()"
   ]
  },
  {
   "attachments": {},
   "cell_type": "markdown",
   "metadata": {},
   "source": [
    "## Varier MC:"
   ]
  },
  {
   "cell_type": "code",
   "execution_count": 34,
   "metadata": {},
   "outputs": [
    {
     "name": "stderr",
     "output_type": "stream",
     "text": [
      "Markov chain N° 1: 100%|██████████| 30/30 [00:01<00:00, 20.26it/s]\n",
      "Markov chain N° 1: 100%|██████████| 30/30 [00:01<00:00, 21.16it/s]\n",
      "Markov chain N° 2: 100%|██████████| 30/30 [00:01<00:00, 21.22it/s]\n",
      "Markov chain N° 1: 100%|██████████| 30/30 [00:01<00:00, 20.14it/s]\n",
      "Markov chain N° 2: 100%|██████████| 30/30 [00:01<00:00, 21.01it/s]\n",
      "Markov chain N° 3: 100%|██████████| 30/30 [00:01<00:00, 20.76it/s]\n",
      "Markov chain N° 1: 100%|██████████| 30/30 [00:01<00:00, 20.32it/s]\n",
      "Markov chain N° 2: 100%|██████████| 30/30 [00:01<00:00, 20.98it/s]\n",
      "Markov chain N° 3: 100%|██████████| 30/30 [00:01<00:00, 19.76it/s]\n",
      "Markov chain N° 4: 100%|██████████| 30/30 [00:01<00:00, 19.26it/s]\n",
      "Markov chain N° 1: 100%|██████████| 30/30 [00:01<00:00, 19.54it/s]\n",
      "Markov chain N° 2: 100%|██████████| 30/30 [00:01<00:00, 19.06it/s]\n",
      "Markov chain N° 3: 100%|██████████| 30/30 [00:01<00:00, 18.69it/s]\n",
      "Markov chain N° 4: 100%|██████████| 30/30 [00:01<00:00, 18.99it/s]\n",
      "Markov chain N° 5: 100%|██████████| 30/30 [00:01<00:00, 19.27it/s]\n",
      "Markov chain N° 1: 100%|██████████| 30/30 [00:01<00:00, 19.82it/s]\n",
      "Markov chain N° 2: 100%|██████████| 30/30 [00:01<00:00, 19.42it/s]\n",
      "Markov chain N° 3: 100%|██████████| 30/30 [00:01<00:00, 19.07it/s]\n",
      "Markov chain N° 4: 100%|██████████| 30/30 [00:01<00:00, 19.96it/s]\n",
      "Markov chain N° 5: 100%|██████████| 30/30 [00:01<00:00, 20.13it/s]\n",
      "Markov chain N° 6: 100%|██████████| 30/30 [00:01<00:00, 19.21it/s]\n",
      "Markov chain N° 1: 100%|██████████| 30/30 [00:01<00:00, 19.37it/s]\n",
      "Markov chain N° 2: 100%|██████████| 30/30 [00:01<00:00, 18.81it/s]\n",
      "Markov chain N° 3: 100%|██████████| 30/30 [00:01<00:00, 19.38it/s]\n",
      "Markov chain N° 4: 100%|██████████| 30/30 [00:01<00:00, 19.22it/s]\n",
      "Markov chain N° 5: 100%|██████████| 30/30 [00:01<00:00, 19.97it/s]\n",
      "Markov chain N° 6: 100%|██████████| 30/30 [00:01<00:00, 19.07it/s]\n",
      "Markov chain N° 7: 100%|██████████| 30/30 [00:01<00:00, 19.73it/s]\n",
      "Markov chain N° 1: 100%|██████████| 30/30 [00:01<00:00, 19.64it/s]\n",
      "Markov chain N° 2: 100%|██████████| 30/30 [00:01<00:00, 19.40it/s]\n",
      "Markov chain N° 3: 100%|██████████| 30/30 [00:01<00:00, 18.66it/s]\n",
      "Markov chain N° 4: 100%|██████████| 30/30 [00:01<00:00, 19.31it/s]\n",
      "Markov chain N° 5: 100%|██████████| 30/30 [00:01<00:00, 18.07it/s]\n",
      "Markov chain N° 6: 100%|██████████| 30/30 [00:01<00:00, 19.52it/s]\n",
      "Markov chain N° 7: 100%|██████████| 30/30 [00:01<00:00, 18.89it/s]\n",
      "Markov chain N° 8: 100%|██████████| 30/30 [00:01<00:00, 18.81it/s]\n",
      "Markov chain N° 1: 100%|██████████| 30/30 [00:01<00:00, 19.10it/s]\n",
      "Markov chain N° 2: 100%|██████████| 30/30 [00:01<00:00, 18.66it/s]\n",
      "Markov chain N° 3: 100%|██████████| 30/30 [00:01<00:00, 19.25it/s]\n",
      "Markov chain N° 4: 100%|██████████| 30/30 [00:01<00:00, 18.82it/s]\n",
      "Markov chain N° 5: 100%|██████████| 30/30 [00:01<00:00, 18.11it/s]\n",
      "Markov chain N° 6: 100%|██████████| 30/30 [00:01<00:00, 16.47it/s]\n",
      "Markov chain N° 7: 100%|██████████| 30/30 [00:01<00:00, 16.52it/s]\n",
      "Markov chain N° 8: 100%|██████████| 30/30 [00:01<00:00, 18.88it/s]\n",
      "Markov chain N° 9: 100%|██████████| 30/30 [00:01<00:00, 18.98it/s]\n",
      "Markov chain N° 1: 100%|██████████| 30/30 [00:01<00:00, 18.82it/s]\n",
      "Markov chain N° 2: 100%|██████████| 30/30 [00:01<00:00, 18.12it/s]\n",
      "Markov chain N° 3: 100%|██████████| 30/30 [00:01<00:00, 18.35it/s]\n",
      "Markov chain N° 4: 100%|██████████| 30/30 [00:01<00:00, 18.50it/s]\n",
      "Markov chain N° 5: 100%|██████████| 30/30 [00:01<00:00, 19.51it/s]\n",
      "Markov chain N° 6: 100%|██████████| 30/30 [00:01<00:00, 19.25it/s]\n",
      "Markov chain N° 7: 100%|██████████| 30/30 [00:01<00:00, 17.66it/s]\n",
      "Markov chain N° 8: 100%|██████████| 30/30 [00:01<00:00, 18.69it/s]\n",
      "Markov chain N° 9: 100%|██████████| 30/30 [00:01<00:00, 18.65it/s]\n",
      "Markov chain N° 10: 100%|██████████| 30/30 [00:01<00:00, 18.45it/s]\n"
     ]
    }
   ],
   "source": [
    "mc_lda_ap = []\n",
    "\n",
    "for mc in range(1, 11):\n",
    "    lda = LdaRetrieval(n_topics=400, mu=1000, alpha=None, beta=0.01, n_iter=30, nb_mc=mc, lmbda=0.7)\n",
    "    lda.fit(vectors, Nds=Nds)\n",
    "    \n",
    "    lda_pred = lda.predict(queries)\n",
    "    mc_lda_ap.append(calculate_average_precision(true_relevance, np.array([lda_pred]), models_names=[\"QL\"], return_df=False))\n",
    "    gc.collect()"
   ]
  },
  {
   "cell_type": "code",
   "execution_count": 35,
   "metadata": {},
   "outputs": [
    {
     "data": {
      "text/plain": [
       "[<matplotlib.lines.Line2D at 0x7f146d9e3a90>]"
      ]
     },
     "execution_count": 35,
     "metadata": {},
     "output_type": "execute_result"
    },
    {
     "data": {
      "image/png": "[encoded data removed]",
      "text/plain": [
       "<Figure size 432x288 with 1 Axes>"
      ]
     },
     "metadata": {
      "needs_background": "light"
     },
     "output_type": "display_data"
    }
   ],
   "source": [
    "plt.plot(mc_lda_ap)"
   ]
  }
 ],
 "metadata": {
  "kernelspec": {
   "display_name": "base",
   "language": "python",
   "name": "python3"
  },
  "language_info": {
   "codemirror_mode": {
    "name": "ipython",
    "version": 3
   },
   "file_extension": ".py",
   "mimetype": "text/x-python",
   "name": "python",
   "nbconvert_exporter": "python",
   "pygments_lexer": "ipython3",
   "version": "3.9.12"
  },
  "orig_nbformat": 4
 },
 "nbformat": 4,
 "nbformat_minor": 2
}

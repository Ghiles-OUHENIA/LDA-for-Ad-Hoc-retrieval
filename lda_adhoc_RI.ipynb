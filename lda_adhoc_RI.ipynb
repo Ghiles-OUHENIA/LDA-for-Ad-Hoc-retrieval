{
 "cells": [
  {
   "cell_type": "code",
   "execution_count": 102,
   "metadata": {},
   "outputs": [],
   "source": [
    "import pyterrier as pt\n",
    "\n",
    "import re\n",
    "import pandas as pd\n",
    "import numpy as np\n",
    "import matplotlib.pyplot as plt\n",
    "\n",
    "from sklearn.feature_extraction.text import TfidfVectorizer\n",
    "from sklearn.cluster import KMeans\n",
    "\n",
    "import warnings\n",
    "warnings.filterwarnings('ignore')\n",
    "\n",
    "import re\n",
    "import string\n",
    "\n",
    "if not pt.started():\n",
    "  pt.init()"
   ]
  },
  {
   "cell_type": "code",
   "execution_count": 3,
   "metadata": {},
   "outputs": [],
   "source": [
    "dataset = pt.datasets.get_dataset(\"vaswani\")"
   ]
  },
  {
   "cell_type": "code",
   "execution_count": 4,
   "metadata": {},
   "outputs": [
    {
     "data": {
      "text/html": [
       "<div>\n",
       "<style scoped>\n",
       "    .dataframe tbody tr th:only-of-type {\n",
       "        vertical-align: middle;\n",
       "    }\n",
       "\n",
       "    .dataframe tbody tr th {\n",
       "        vertical-align: top;\n",
       "    }\n",
       "\n",
       "    .dataframe thead th {\n",
       "        text-align: right;\n",
       "    }\n",
       "</style>\n",
       "<table border=\"1\" class=\"dataframe\">\n",
       "  <thead>\n",
       "    <tr style=\"text-align: right;\">\n",
       "      <th></th>\n",
       "      <th>qid</th>\n",
       "      <th>query</th>\n",
       "    </tr>\n",
       "  </thead>\n",
       "  <tbody>\n",
       "    <tr>\n",
       "      <th>0</th>\n",
       "      <td>1</td>\n",
       "      <td>measurement of dielectric constant of liquids ...</td>\n",
       "    </tr>\n",
       "    <tr>\n",
       "      <th>1</th>\n",
       "      <td>2</td>\n",
       "      <td>mathematical analysis and design details of wa...</td>\n",
       "    </tr>\n",
       "    <tr>\n",
       "      <th>2</th>\n",
       "      <td>3</td>\n",
       "      <td>use of digital computers in the design of band...</td>\n",
       "    </tr>\n",
       "    <tr>\n",
       "      <th>3</th>\n",
       "      <td>4</td>\n",
       "      <td>systems of data coding for information transfer</td>\n",
       "    </tr>\n",
       "    <tr>\n",
       "      <th>4</th>\n",
       "      <td>5</td>\n",
       "      <td>use of programs in engineering testing of comp...</td>\n",
       "    </tr>\n",
       "    <tr>\n",
       "      <th>...</th>\n",
       "      <td>...</td>\n",
       "      <td>...</td>\n",
       "    </tr>\n",
       "    <tr>\n",
       "      <th>88</th>\n",
       "      <td>89</td>\n",
       "      <td>tunnel diode construction and its electrical c...</td>\n",
       "    </tr>\n",
       "    <tr>\n",
       "      <th>89</th>\n",
       "      <td>90</td>\n",
       "      <td>electronic density of states at the surface of...</td>\n",
       "    </tr>\n",
       "    <tr>\n",
       "      <th>90</th>\n",
       "      <td>91</td>\n",
       "      <td>resistivity of metallic thin films related to ...</td>\n",
       "    </tr>\n",
       "    <tr>\n",
       "      <th>91</th>\n",
       "      <td>92</td>\n",
       "      <td>the phenomenon of radiation caused by charged ...</td>\n",
       "    </tr>\n",
       "    <tr>\n",
       "      <th>92</th>\n",
       "      <td>93</td>\n",
       "      <td>high frequency oscillators using transistors t...</td>\n",
       "    </tr>\n",
       "  </tbody>\n",
       "</table>\n",
       "<p>93 rows × 2 columns</p>\n",
       "</div>"
      ],
      "text/plain": [
       "   qid                                              query\n",
       "0    1  measurement of dielectric constant of liquids ...\n",
       "1    2  mathematical analysis and design details of wa...\n",
       "2    3  use of digital computers in the design of band...\n",
       "3    4    systems of data coding for information transfer\n",
       "4    5  use of programs in engineering testing of comp...\n",
       "..  ..                                                ...\n",
       "88  89  tunnel diode construction and its electrical c...\n",
       "89  90  electronic density of states at the surface of...\n",
       "90  91  resistivity of metallic thin films related to ...\n",
       "91  92  the phenomenon of radiation caused by charged ...\n",
       "92  93  high frequency oscillators using transistors t...\n",
       "\n",
       "[93 rows x 2 columns]"
      ]
     },
     "execution_count": 4,
     "metadata": {},
     "output_type": "execute_result"
    }
   ],
   "source": [
    "topics = dataset.get_topics()\n",
    "topics"
   ]
  },
  {
   "cell_type": "code",
   "execution_count": 5,
   "metadata": {},
   "outputs": [
    {
     "data": {
      "text/html": [
       "<div>\n",
       "<style scoped>\n",
       "    .dataframe tbody tr th:only-of-type {\n",
       "        vertical-align: middle;\n",
       "    }\n",
       "\n",
       "    .dataframe tbody tr th {\n",
       "        vertical-align: top;\n",
       "    }\n",
       "\n",
       "    .dataframe thead th {\n",
       "        text-align: right;\n",
       "    }\n",
       "</style>\n",
       "<table border=\"1\" class=\"dataframe\">\n",
       "  <thead>\n",
       "    <tr style=\"text-align: right;\">\n",
       "      <th></th>\n",
       "      <th>docno</th>\n",
       "      <th>text</th>\n",
       "    </tr>\n",
       "  </thead>\n",
       "  <tbody>\n",
       "    <tr>\n",
       "      <th>0</th>\n",
       "      <td>1</td>\n",
       "      <td>compact memories have flexible capacities  a d...</td>\n",
       "    </tr>\n",
       "    <tr>\n",
       "      <th>1</th>\n",
       "      <td>2</td>\n",
       "      <td>an electronic analogue computer for solving sy...</td>\n",
       "    </tr>\n",
       "    <tr>\n",
       "      <th>2</th>\n",
       "      <td>3</td>\n",
       "      <td>electronic coordinate transformer  circuit det...</td>\n",
       "    </tr>\n",
       "    <tr>\n",
       "      <th>3</th>\n",
       "      <td>4</td>\n",
       "      <td>the british computer society  report of a conf...</td>\n",
       "    </tr>\n",
       "    <tr>\n",
       "      <th>4</th>\n",
       "      <td>5</td>\n",
       "      <td>millimicrosecond digital computer logic  a sys...</td>\n",
       "    </tr>\n",
       "  </tbody>\n",
       "</table>\n",
       "</div>"
      ],
      "text/plain": [
       "   docno                                               text\n",
       "0      1  compact memories have flexible capacities  a d...\n",
       "1      2  an electronic analogue computer for solving sy...\n",
       "2      3  electronic coordinate transformer  circuit det...\n",
       "3      4  the british computer society  report of a conf...\n",
       "4      5  millimicrosecond digital computer logic  a sys..."
      ]
     },
     "execution_count": 5,
     "metadata": {},
     "output_type": "execute_result"
    }
   ],
   "source": [
    "with open(dataset.get_corpus()[0], \"r\") as f:\n",
    "    content = f.read()\n",
    "\n",
    "docs = re.findall(r'<DOC>\\s*<DOCNO>(\\d+)</DOCNO>\\s*(.*?)\\s*</DOC>', content, flags=re.DOTALL)\n",
    "\n",
    "df = pd.DataFrame(docs, columns=[\"docno\", \"text\"])\n",
    "df[\"docno\"] = df[\"docno\"].astype(int)\n",
    "\n",
    "df.head()"
   ]
  },
  {
   "cell_type": "code",
   "execution_count": 6,
   "metadata": {},
   "outputs": [
    {
     "data": {
      "text/plain": [
       "(11429, 2)"
      ]
     },
     "execution_count": 6,
     "metadata": {},
     "output_type": "execute_result"
    }
   ],
   "source": [
    "df.shape"
   ]
  },
  {
   "cell_type": "code",
   "execution_count": 111,
   "metadata": {},
   "outputs": [
    {
     "data": {
      "text/plain": [
       "0        21\n",
       "1        23\n",
       "2        39\n",
       "3        11\n",
       "4        51\n",
       "         ..\n",
       "11424    16\n",
       "11425    34\n",
       "11426    35\n",
       "11427    12\n",
       "11428    32\n",
       "Name: text, Length: 11429, dtype: int64"
      ]
     },
     "execution_count": 111,
     "metadata": {},
     "output_type": "execute_result"
    }
   ],
   "source": [
    "Nds = df[\"text\"].map(lambda t: re.sub('[' + re.escape(string.punctuation) + ']', ' ', t).split(\" \")).map(lambda l : list(filter((\"\").__ne__, l))).map(len)\n",
    "Nds"
   ]
  },
  {
   "cell_type": "code",
   "execution_count": 8,
   "metadata": {},
   "outputs": [],
   "source": [
    "vectorizer = TfidfVectorizer(max_df=0.95, min_df=4, ngram_range=(1,1), max_features=30)\n",
    "vectors = vectorizer.fit_transform(df[\"text\"])"
   ]
  },
  {
   "cell_type": "code",
   "execution_count": 141,
   "metadata": {},
   "outputs": [],
   "source": [
    "def query_likelihood_retrieval(vectorizer, p_vectors, query, collection=False):\n",
    "    \n",
    "    if type(p_vectors) != np.ndarray:\n",
    "        p_vectors = p_vectors.toarray()\n",
    "    \n",
    "    query_array = vectorizer.transform([query]).toarray()    \n",
    "    query_array = (query_array != 0).reshape(-1)\n",
    "    \n",
    "    if not query_array.any():\n",
    "        if not collection:\n",
    "            return np.zeros(len(p_vectors))\n",
    "        \n",
    "        return 0\n",
    "    \n",
    "    if collection:\n",
    "        p_vectors = np.asarray(p_vectors.sum(axis=0) / p_vectors.sum())\n",
    "        return p_vectors[query_array].prod()\n",
    "        \n",
    "    return np.asarray(p_vectors[:, query_array].prod(axis=1)).reshape(-1)"
   ]
  },
  {
   "cell_type": "code",
   "execution_count": 146,
   "metadata": {},
   "outputs": [],
   "source": [
    "query = topics[\"query\"][0]\n",
    "P_Q_D_ql = query_likelihood_retrieval(vectorizer, vectors, query)\n",
    "P_Q_C_ql = query_likelihood_retrieval(vectorizer, vectors, query, collection=True)"
   ]
  },
  {
   "cell_type": "code",
   "execution_count": 147,
   "metadata": {},
   "outputs": [
    {
     "data": {
      "text/plain": [
       "0.0005380887937979582"
      ]
     },
     "execution_count": 147,
     "metadata": {},
     "output_type": "execute_result"
    }
   ],
   "source": [
    "P_Q_C_ql"
   ]
  },
  {
   "cell_type": "code",
   "execution_count": 148,
   "metadata": {},
   "outputs": [
    {
     "data": {
      "image/png": "[encoded data removed]",
      "text/plain": [
       "<Figure size 432x288 with 1 Axes>"
      ]
     },
     "metadata": {
      "needs_background": "light"
     },
     "output_type": "display_data"
    },
    {
     "data": {
      "text/plain": [
       "(11429,)"
      ]
     },
     "execution_count": 148,
     "metadata": {},
     "output_type": "execute_result"
    }
   ],
   "source": [
    "plt.plot(P_Q_D_ql)\n",
    "plt.show()\n",
    "\n",
    "P_Q_D_ql.shape"
   ]
  },
  {
   "cell_type": "code",
   "execution_count": 162,
   "metadata": {},
   "outputs": [],
   "source": [
    "def cluster_based_retrieval(vectorizer, p_vectors, query, doc_clusters, Nds, mu=1000):\n",
    "    \n",
    "    n_docs = p_vectors.shape[0]\n",
    "    P_w_D = np.zeros(n_docs)\n",
    "    \n",
    "    ql_doc = query_likelihood_retrieval(vectorizer, p_vectors, query)\n",
    "    \n",
    "    clusters = np.unique(doc_clusters)\n",
    "    ql_cluster = dict()\n",
    "    for cl in clusters:\n",
    "        vectors_cluster = p_vectors[doc_clusters == cl]\n",
    "        ql_cluster[cl] = query_likelihood_retrieval(vectorizer, vectors_cluster, query, collection=True)\n",
    "\n",
    "    for d in range(n_docs):\n",
    "        Nd = Nds[d]\n",
    "        P_w_D[d] = (Nd / (Nd + mu)) *  ql_doc[d] + (1 - (Nd / (Nd + mu))) * ql_cluster[doc_clusters[d]]\n",
    "    \n",
    "    return P_w_D"
   ]
  },
  {
   "cell_type": "code",
   "execution_count": 150,
   "metadata": {},
   "outputs": [],
   "source": [
    "k_means = KMeans(n_clusters=len(topics), verbose=False, random_state=0)"
   ]
  },
  {
   "cell_type": "code",
   "execution_count": 151,
   "metadata": {},
   "outputs": [],
   "source": [
    "k_means.fit(vectors)\n",
    "clusters = k_means.labels_"
   ]
  },
  {
   "cell_type": "code",
   "execution_count": 152,
   "metadata": {},
   "outputs": [
    {
     "data": {
      "text/plain": [
       "array([92, 40, 77, ..., 23, 50,  4], dtype=int32)"
      ]
     },
     "execution_count": 152,
     "metadata": {},
     "output_type": "execute_result"
    }
   ],
   "source": [
    "clusters"
   ]
  },
  {
   "cell_type": "code",
   "execution_count": 166,
   "metadata": {},
   "outputs": [],
   "source": [
    "query = topics[\"query\"][0]\n",
    "P_Q_D_cluster = cluster_based_retrieval(vectorizer, vectors, query, clusters, Nds)"
   ]
  },
  {
   "cell_type": "code",
   "execution_count": 167,
   "metadata": {},
   "outputs": [
    {
     "data": {
      "text/plain": [
       "array([0.00023341, 0.00025318, 0.00058655, ..., 0.00011134, 0.00100192,\n",
       "       0.00032894])"
      ]
     },
     "execution_count": 167,
     "metadata": {},
     "output_type": "execute_result"
    }
   ],
   "source": [
    "P_Q_D_cluster"
   ]
  },
  {
   "cell_type": "code",
   "execution_count": 168,
   "metadata": {},
   "outputs": [
    {
     "data": {
      "image/png": "[encoded data removed]",
      "text/plain": [
       "<Figure size 432x288 with 1 Axes>"
      ]
     },
     "metadata": {
      "needs_background": "light"
     },
     "output_type": "display_data"
    },
    {
     "data": {
      "text/plain": [
       "(11429,)"
      ]
     },
     "execution_count": 168,
     "metadata": {},
     "output_type": "execute_result"
    }
   ],
   "source": [
    "plt.plot(P_Q_D_cluster)\n",
    "plt.show()\n",
    "\n",
    "P_Q_D_cluster.shape"
   ]
  },
  {
   "cell_type": "code",
   "execution_count": 214,
   "metadata": {},
   "outputs": [],
   "source": [
    "def init_params(n_docs, n_topics, vocab_len):\n",
    "    psi = np.zeros((n_topics, vocab_len))\n",
    "    theta = np.zeros((n_docs, n_topics))\n",
    "    return psi, theta\n",
    "\n",
    "def sample_topic(doc_id, word_id, psi, theta, alpha, beta):\n",
    "    \n",
    "    n_topics, n_words = psi.shape\n",
    "    \n",
    "\n",
    "\n",
    "    topic_probs = (psi[:, word_id] + beta) / (psi.sum(axis=1) + beta * n_words)\n",
    "    doc_probs = (theta[doc_id, :] + alpha) / (theta.sum(axis=1)[doc_id] + alpha * n_topics)\n",
    "    \n",
    "    p_choice = topic_probs * doc_probs\n",
    "    p_choice /= p_choice.sum()\n",
    "\n",
    "    new_topic = np.random.choice(np.arange(n_topics), p=p_choice)\n",
    "    \n",
    "    psi[new_topic, word_id] += 1\n",
    "    theta[doc_id, new_topic] += 1\n",
    "    \n",
    "def gibbs_sampling(docs, n_topics, n_iterations, num_chains, alpha=False, beta=0.01):\n",
    "    n_docs, vocab_len = docs.shape\n",
    "    \n",
    "    if alpha == False:\n",
    "        alpha = 50 / n_topics\n",
    "\n",
    "    psi_markov = np.zeros((n_topics, vocab_len))\n",
    "    theta_markov = np.zeros((n_docs, n_topics))\n",
    "\n",
    "    for chain in range(num_chains):\n",
    "        \n",
    "        psi, theta = init_params(n_docs, n_topics, vocab_len)\n",
    "        \n",
    "        for iteration in range(n_iterations):\n",
    "            for doc_id, doc in enumerate(docs):\n",
    "                for word_id in np.where(doc != 0)[0]:\n",
    "                    sample_topic(doc_id, word_id, psi, theta, alpha, beta)\n",
    "                    \n",
    "        psi_markov += psi\n",
    "        theta_markov += theta\n",
    "    \n",
    "    psi_markov /= num_chains\n",
    "    theta_markov /= num_chains\n",
    "\n",
    "    return psi_markov, theta_markov"
   ]
  },
  {
   "cell_type": "code",
   "execution_count": 231,
   "metadata": {},
   "outputs": [],
   "source": [
    "psi, tetha = gibbs_sampling(vectors.toarray(), len(topics), 1, 2)"
   ]
  },
  {
   "cell_type": "code",
   "execution_count": null,
   "metadata": {},
   "outputs": [],
   "source": []
  }
 ],
 "metadata": {
  "kernelspec": {
   "display_name": "base",
   "language": "python",
   "name": "python3"
  },
  "language_info": {
   "codemirror_mode": {
    "name": "ipython",
    "version": 3
   },
   "file_extension": ".py",
   "mimetype": "text/x-python",
   "name": "python",
   "nbconvert_exporter": "python",
   "pygments_lexer": "ipython3",
   "version": "3.9.12"
  },
  "orig_nbformat": 4
 },
 "nbformat": 4,
 "nbformat_minor": 2
}

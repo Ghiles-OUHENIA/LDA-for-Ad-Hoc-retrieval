{
 "cells": [
  {
   "cell_type": "code",
   "execution_count": 1,
   "metadata": {},
   "outputs": [
    {
     "name": "stderr",
     "output_type": "stream",
     "text": [
      "PyTerrier 0.9.2 has loaded Terrier 5.7 (built by craigm on 2022-11-10 18:30) and terrier-helper 0.0.7\n",
      "\n",
      "No etc/terrier.properties, using terrier.default.properties for bootstrap configuration.\n"
     ]
    }
   ],
   "source": [
    "import pyterrier as pt\n",
    "\n",
    "import warnings\n",
    "warnings.filterwarnings('ignore')\n",
    "\n",
    "if not pt.started():\n",
    "  pt.init()"
   ]
  },
  {
   "cell_type": "code",
   "execution_count": 2,
   "metadata": {},
   "outputs": [],
   "source": [
    "dataset = pt.datasets.get_dataset(\"vaswani\")\n",
    "index_ref = dataset.get_index()\n",
    "topics = dataset.get_topics()\n",
    "qrels = dataset.get_qrels()"
   ]
  },
  {
   "cell_type": "code",
   "execution_count": 12,
   "metadata": {},
   "outputs": [],
   "source": [
    "def query_likelihood_retrieval(index_ref, query):\n",
    "    ql_retriever = pt.BatchRetrieve(index_ref, wmodel=\"DirichletLM\")\n",
    "    results = ql_retriever.transform(query)\n",
    "\n",
    "    D = results.iloc[0][\"docid\"]\n",
    "    ql_model = ql_retriever[\"score\"][D]\n",
    "\n",
    "    ql_scores = {}\n",
    "    for term in query.split():\n",
    "        if term in ql_model:\n",
    "            p_w_D = ql_model[term]\n",
    "            ql_scores[term] = p_w_D\n",
    "\n",
    "    return ql_scores"
   ]
  },
  {
   "cell_type": "code",
   "execution_count": 13,
   "metadata": {},
   "outputs": [
    {
     "ename": "IndexError",
     "evalue": "Invalid position",
     "output_type": "error",
     "traceback": [
      "\u001b[0;31m---------------------------------------------------------------------------\u001b[0m",
      "\u001b[0;31mIndexError\u001b[0m                                Traceback (most recent call last)",
      "\u001b[1;32m/home/amayas/Etudes/RITAL/Ri/LDA-for-Ad-Hoc-retrieval/lda_adhoc_RI.ipynb Cell 4\u001b[0m in \u001b[0;36m<cell line: 1>\u001b[0;34m()\u001b[0m\n\u001b[0;32m----> <a href='vscode-notebook-cell:/home/amayas/Etudes/RITAL/Ri/LDA-for-Ad-Hoc-retrieval/lda_adhoc_RI.ipynb#X25sZmlsZQ%3D%3D?line=0'>1</a>\u001b[0m query_likelihood_retrieval(index_ref, query \u001b[39m=\u001b[39;49m \u001b[39m\"\u001b[39;49m\u001b[39mdeep learning\u001b[39;49m\u001b[39m\"\u001b[39;49m)\n",
      "\u001b[1;32m/home/amayas/Etudes/RITAL/Ri/LDA-for-Ad-Hoc-retrieval/lda_adhoc_RI.ipynb Cell 4\u001b[0m in \u001b[0;36mquery_likelihood_retrieval\u001b[0;34m(index_ref, query)\u001b[0m\n\u001b[1;32m      <a href='vscode-notebook-cell:/home/amayas/Etudes/RITAL/Ri/LDA-for-Ad-Hoc-retrieval/lda_adhoc_RI.ipynb#X25sZmlsZQ%3D%3D?line=2'>3</a>\u001b[0m results \u001b[39m=\u001b[39m ql_retriever\u001b[39m.\u001b[39mtransform(query)\n\u001b[1;32m      <a href='vscode-notebook-cell:/home/amayas/Etudes/RITAL/Ri/LDA-for-Ad-Hoc-retrieval/lda_adhoc_RI.ipynb#X25sZmlsZQ%3D%3D?line=4'>5</a>\u001b[0m D \u001b[39m=\u001b[39m results\u001b[39m.\u001b[39miloc[\u001b[39m0\u001b[39m][\u001b[39m\"\u001b[39m\u001b[39mdocid\u001b[39m\u001b[39m\"\u001b[39m]\n\u001b[0;32m----> <a href='vscode-notebook-cell:/home/amayas/Etudes/RITAL/Ri/LDA-for-Ad-Hoc-retrieval/lda_adhoc_RI.ipynb#X25sZmlsZQ%3D%3D?line=5'>6</a>\u001b[0m ql_model \u001b[39m=\u001b[39m ql_retriever[\u001b[39m\"\u001b[39;49m\u001b[39mscore\u001b[39;49m\u001b[39m\"\u001b[39;49m][D]\n\u001b[1;32m      <a href='vscode-notebook-cell:/home/amayas/Etudes/RITAL/Ri/LDA-for-Ad-Hoc-retrieval/lda_adhoc_RI.ipynb#X25sZmlsZQ%3D%3D?line=7'>8</a>\u001b[0m ql_scores \u001b[39m=\u001b[39m {}\n\u001b[1;32m      <a href='vscode-notebook-cell:/home/amayas/Etudes/RITAL/Ri/LDA-for-Ad-Hoc-retrieval/lda_adhoc_RI.ipynb#X25sZmlsZQ%3D%3D?line=8'>9</a>\u001b[0m \u001b[39mfor\u001b[39;00m term \u001b[39min\u001b[39;00m query\u001b[39m.\u001b[39msplit():\n",
      "File \u001b[0;32m~/anaconda3/lib/python3.9/site-packages/matchpy/expressions/expressions.py:207\u001b[0m, in \u001b[0;36mExpression.__getitem__\u001b[0;34m(self, position)\u001b[0m\n\u001b[1;32m    205\u001b[0m \u001b[39mif\u001b[39;00m \u001b[39mlen\u001b[39m(position) \u001b[39m==\u001b[39m \u001b[39m0\u001b[39m:\n\u001b[1;32m    206\u001b[0m     \u001b[39mreturn\u001b[39;00m \u001b[39mself\u001b[39m\n\u001b[0;32m--> 207\u001b[0m \u001b[39mraise\u001b[39;00m \u001b[39mIndexError\u001b[39;00m(\u001b[39m\"\u001b[39m\u001b[39mInvalid position\u001b[39m\u001b[39m\"\u001b[39m)\n",
      "\u001b[0;31mIndexError\u001b[0m: Invalid position"
     ]
    }
   ],
   "source": [
    "query_likelihood_retrieval(index_ref, query = \"deep learning\")"
   ]
  },
  {
   "cell_type": "code",
   "execution_count": null,
   "metadata": {},
   "outputs": [],
   "source": []
  }
 ],
 "metadata": {
  "kernelspec": {
   "display_name": "base",
   "language": "python",
   "name": "python3"
  },
  "language_info": {
   "codemirror_mode": {
    "name": "ipython",
    "version": 3
   },
   "file_extension": ".py",
   "mimetype": "text/x-python",
   "name": "python",
   "nbconvert_exporter": "python",
   "pygments_lexer": "ipython3",
   "version": "3.9.12"
  },
  "orig_nbformat": 4
 },
 "nbformat": 4,
 "nbformat_minor": 2
}
